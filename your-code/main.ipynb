{
 "cells": [
  {
   "cell_type": "markdown",
   "metadata": {
    "id": "xjI20x84zSx2"
   },
   "source": [
    "# Before you start:\n",
    "- Read the README.md file\n",
    "- Comment as much as you can and use the resources (README.md file)\n",
    "- Happy learning!"
   ]
  },
  {
   "cell_type": "code",
   "execution_count": 1,
   "metadata": {
    "colab": {
     "base_uri": "https://localhost:8080/"
    },
    "id": "uzAOTQfoz15Q",
    "outputId": "9597f4c2-a277-4c68-a984-a22cd1d353c6"
   },
   "outputs": [
    {
     "name": "stdout",
     "output_type": "stream",
     "text": [
      "Retrieving notices: ...working... done\n",
      "Collecting package metadata (current_repodata.json): / WARNING conda.models.version:get_matcher(556): Using .* with relational operator is superfluous and deprecated and will be removed in a future version of conda. Your spec was 1.7.1.*, but conda is ignoring the .* and treating it as 1.7.1\n",
      "done\n",
      "Solving environment: done\n",
      "\n",
      "\n",
      "==> WARNING: A newer version of conda exists. <==\n",
      "  current version: 23.7.4\n",
      "  latest version: 23.11.0\n",
      "\n",
      "Please update conda by running\n",
      "\n",
      "    $ conda update -n base -c defaults conda\n",
      "\n",
      "Or to minimize the number of packages updated during conda update use\n",
      "\n",
      "     conda install conda=23.11.0\n",
      "\n",
      "\n",
      "\n",
      "## Package Plan ##\n",
      "\n",
      "  environment location: /Users/minhnguyen/anaconda3\n",
      "\n",
      "  added / updated specs:\n",
      "    - scipy\n",
      "\n",
      "\n",
      "The following packages will be downloaded:\n",
      "\n",
      "    package                    |            build\n",
      "    ---------------------------|-----------------\n",
      "    libblas-3.9.0              |16_osx64_openblas          13 KB  conda-forge\n",
      "    libcblas-3.9.0             |16_osx64_openblas          13 KB  conda-forge\n",
      "    liblapack-3.9.0            |16_osx64_openblas          13 KB  conda-forge\n",
      "    pooch-1.8.0                |     pyhd8ed1ab_0          51 KB  conda-forge\n",
      "    scipy-1.10.1               |  py311h939689b_0        22.4 MB  conda-forge\n",
      "    ------------------------------------------------------------\n",
      "                                           Total:        22.5 MB\n",
      "\n",
      "The following NEW packages will be INSTALLED:\n",
      "\n",
      "  libblas            conda-forge/osx-64::libblas-3.9.0-16_osx64_openblas \n",
      "  libcblas           conda-forge/osx-64::libcblas-3.9.0-16_osx64_openblas \n",
      "  liblapack          conda-forge/osx-64::liblapack-3.9.0-16_osx64_openblas \n",
      "  pooch              conda-forge/noarch::pooch-1.8.0-pyhd8ed1ab_0 \n",
      "\n",
      "The following packages will be SUPERSEDED by a higher-priority channel:\n",
      "\n",
      "  scipy              pkgs/main::scipy-1.11.1-py311h7695dc5~ --> conda-forge::scipy-1.10.1-py311h939689b_0 \n",
      "\n",
      "\n",
      "\n",
      "Downloading and Extracting Packages\n",
      "libcblas-3.9.0       | 13 KB     |                                       |   0% \n",
      "pooch-1.8.0          | 51 KB     |                                       |   0% \u001b[A\n",
      "\n",
      "liblapack-3.9.0      | 13 KB     |                                       |   0% \u001b[A\u001b[A\n",
      "\n",
      "\n",
      "scipy-1.10.1         | 22.4 MB   |                                       |   0% \u001b[A\u001b[A\u001b[A\n",
      "\n",
      "\n",
      "\n",
      "libblas-3.9.0        | 13 KB     |                                       |   0% \u001b[A\u001b[A\u001b[A\u001b[A\n",
      "\n",
      "libcblas-3.9.0       | 13 KB     | ##################################### | 100% \u001b[A\u001b[A\n",
      "pooch-1.8.0          | 51 KB     | ###########5                          |  31% \u001b[A\n",
      "\n",
      "\n",
      "\n",
      "libcblas-3.9.0       | 13 KB     | ##################################### | 100% \u001b[A\u001b[A\u001b[A\u001b[A\n",
      "\n",
      "liblapack-3.9.0      | 13 KB     | ##################################### | 100% \u001b[A\u001b[A\n",
      "\n",
      "\n",
      "\n",
      "libblas-3.9.0        | 13 KB     | ##################################### | 100% \u001b[A\u001b[A\u001b[A\u001b[A\n",
      "\n",
      "\n",
      "scipy-1.10.1         | 22.4 MB   |                                       |   0% \u001b[A\u001b[A\u001b[A\n",
      "\n",
      "\n",
      "scipy-1.10.1         | 22.4 MB   | 6                                     |   2% \u001b[A\u001b[A\u001b[A\n",
      "\n",
      "\n",
      "scipy-1.10.1         | 22.4 MB   | #5                                    |   4% \u001b[A\u001b[A\u001b[A\n",
      "\n",
      "\n",
      "scipy-1.10.1         | 22.4 MB   | ###2                                  |   9% \u001b[A\u001b[A\u001b[A\n",
      "\n",
      "\n",
      "scipy-1.10.1         | 22.4 MB   | #####8                                |  16% \u001b[A\u001b[A\u001b[A\n",
      "\n",
      "\n",
      "scipy-1.10.1         | 22.4 MB   | ########3                             |  23% \u001b[A\u001b[A\u001b[A\n",
      "\n",
      "\n",
      "scipy-1.10.1         | 22.4 MB   | ###########6                          |  31% \u001b[A\u001b[A\u001b[A\n",
      "\n",
      "\n",
      "scipy-1.10.1         | 22.4 MB   | ##############8                       |  40% \u001b[A\u001b[A\u001b[A\n",
      "\n",
      "\n",
      "scipy-1.10.1         | 22.4 MB   | #################4                    |  47% \u001b[A\u001b[A\u001b[A\n",
      "\n",
      "\n",
      "scipy-1.10.1         | 22.4 MB   | ######################                |  60% \u001b[A\u001b[A\u001b[A\n",
      "\n",
      "\n",
      "scipy-1.10.1         | 22.4 MB   | #########################2            |  68% \u001b[A\u001b[A\u001b[A\n",
      "\n",
      "\n",
      "scipy-1.10.1         | 22.4 MB   | ############################5         |  77% \u001b[A\u001b[A\u001b[A\n",
      "\n",
      "\n",
      "scipy-1.10.1         | 22.4 MB   | ################################      |  87% \u001b[A\u001b[A\u001b[A\n",
      "\n",
      "\n",
      "scipy-1.10.1         | 22.4 MB   | ###################################5  |  96% \u001b[A\u001b[A\u001b[A\n",
      "pooch-1.8.0          | 51 KB     | ##################################### | 100% \u001b[A\n",
      "pooch-1.8.0          | 51 KB     | ##################################### | 100% \u001b[A\n",
      "\n",
      "\n",
      "                                                                                \u001b[A\u001b[A\u001b[A\n",
      "                                                                                \u001b[A\n",
      "\n",
      "                                                                                \u001b[A\u001b[A\n",
      "\n",
      "\n",
      "                                                                                \u001b[A\u001b[A\u001b[A\n",
      "\n",
      "\n",
      "\n",
      "                                                                                \u001b[A\u001b[A\u001b[A\u001b[A\n",
      "Preparing transaction: done\n",
      "Verifying transaction: done\n",
      "Executing transaction: done\n",
      "\n",
      "Note: you may need to restart the kernel to use updated packages.\n"
     ]
    }
   ],
   "source": [
    "%conda install scipy"
   ]
  },
  {
   "cell_type": "code",
   "execution_count": 2,
   "metadata": {},
   "outputs": [],
   "source": [
    "import scipy.stats as st"
   ]
  },
  {
   "cell_type": "code",
   "execution_count": 3,
   "metadata": {
    "id": "PIKv798RzSx6"
   },
   "outputs": [],
   "source": [
    "# import numpy and pandas\n",
    "import numpy as np \n",
    "import pandas as pd\n"
   ]
  },
  {
   "cell_type": "markdown",
   "metadata": {
    "id": "GvMX-v1TzSx7"
   },
   "source": [
    "# Challenge 1 - Exploring the Data\n",
    "\n",
    "In this challenge, we will examine all salaries of employees of the San Francisco. We will start by loading the dataset and examining its contents. "
   ]
  },
  {
   "cell_type": "code",
   "execution_count": 4,
   "metadata": {
    "colab": {
     "base_uri": "https://localhost:8080/"
    },
    "id": "jx8dpv-xzSx8",
    "outputId": "c1a35f3c-afb6-4b20-d774-06bbdca465ea"
   },
   "outputs": [
    {
     "name": "stderr",
     "output_type": "stream",
     "text": [
      "/var/folders/9z/v2g_zsyn4m11dzc06c73_bbm0000gn/T/ipykernel_2662/4152113303.py:2: DtypeWarning: Columns (3,4,5,6,12) have mixed types. Specify dtype option on import or set low_memory=False.\n",
      "  salary = pd.read_csv('../data/Salaries.csv')\n"
     ]
    }
   ],
   "source": [
    "# Your code here:\n",
    "salary = pd.read_csv('../data/Salaries.csv')"
   ]
  },
  {
   "cell_type": "markdown",
   "metadata": {
    "id": "28njElH1zSx9"
   },
   "source": [
    "Examine the `salaries` dataset using the `head` function below."
   ]
  },
  {
   "cell_type": "code",
   "execution_count": 5,
   "metadata": {},
   "outputs": [
    {
     "data": {
      "text/html": [
       "<div>\n",
       "<style scoped>\n",
       "    .dataframe tbody tr th:only-of-type {\n",
       "        vertical-align: middle;\n",
       "    }\n",
       "\n",
       "    .dataframe tbody tr th {\n",
       "        vertical-align: top;\n",
       "    }\n",
       "\n",
       "    .dataframe thead th {\n",
       "        text-align: right;\n",
       "    }\n",
       "</style>\n",
       "<table border=\"1\" class=\"dataframe\">\n",
       "  <thead>\n",
       "    <tr style=\"text-align: right;\">\n",
       "      <th></th>\n",
       "      <th>Id</th>\n",
       "      <th>EmployeeName</th>\n",
       "      <th>JobTitle</th>\n",
       "      <th>BasePay</th>\n",
       "      <th>OvertimePay</th>\n",
       "      <th>OtherPay</th>\n",
       "      <th>Benefits</th>\n",
       "      <th>TotalPay</th>\n",
       "      <th>TotalPayBenefits</th>\n",
       "      <th>Year</th>\n",
       "      <th>Notes</th>\n",
       "      <th>Agency</th>\n",
       "      <th>Status</th>\n",
       "    </tr>\n",
       "  </thead>\n",
       "  <tbody>\n",
       "    <tr>\n",
       "      <th>0</th>\n",
       "      <td>1</td>\n",
       "      <td>NATHANIEL FORD</td>\n",
       "      <td>GENERAL MANAGER-METROPOLITAN TRANSIT AUTHORITY</td>\n",
       "      <td>167411.18</td>\n",
       "      <td>0.0</td>\n",
       "      <td>400184.25</td>\n",
       "      <td>NaN</td>\n",
       "      <td>567595.43</td>\n",
       "      <td>567595.43</td>\n",
       "      <td>2011</td>\n",
       "      <td>NaN</td>\n",
       "      <td>San Francisco</td>\n",
       "      <td>NaN</td>\n",
       "    </tr>\n",
       "    <tr>\n",
       "      <th>1</th>\n",
       "      <td>2</td>\n",
       "      <td>GARY JIMENEZ</td>\n",
       "      <td>CAPTAIN III (POLICE DEPARTMENT)</td>\n",
       "      <td>155966.02</td>\n",
       "      <td>245131.88</td>\n",
       "      <td>137811.38</td>\n",
       "      <td>NaN</td>\n",
       "      <td>538909.28</td>\n",
       "      <td>538909.28</td>\n",
       "      <td>2011</td>\n",
       "      <td>NaN</td>\n",
       "      <td>San Francisco</td>\n",
       "      <td>NaN</td>\n",
       "    </tr>\n",
       "    <tr>\n",
       "      <th>2</th>\n",
       "      <td>3</td>\n",
       "      <td>ALBERT PARDINI</td>\n",
       "      <td>CAPTAIN III (POLICE DEPARTMENT)</td>\n",
       "      <td>212739.13</td>\n",
       "      <td>106088.18</td>\n",
       "      <td>16452.6</td>\n",
       "      <td>NaN</td>\n",
       "      <td>335279.91</td>\n",
       "      <td>335279.91</td>\n",
       "      <td>2011</td>\n",
       "      <td>NaN</td>\n",
       "      <td>San Francisco</td>\n",
       "      <td>NaN</td>\n",
       "    </tr>\n",
       "    <tr>\n",
       "      <th>3</th>\n",
       "      <td>4</td>\n",
       "      <td>CHRISTOPHER CHONG</td>\n",
       "      <td>WIRE ROPE CABLE MAINTENANCE MECHANIC</td>\n",
       "      <td>77916.0</td>\n",
       "      <td>56120.71</td>\n",
       "      <td>198306.9</td>\n",
       "      <td>NaN</td>\n",
       "      <td>332343.61</td>\n",
       "      <td>332343.61</td>\n",
       "      <td>2011</td>\n",
       "      <td>NaN</td>\n",
       "      <td>San Francisco</td>\n",
       "      <td>NaN</td>\n",
       "    </tr>\n",
       "    <tr>\n",
       "      <th>4</th>\n",
       "      <td>5</td>\n",
       "      <td>PATRICK GARDNER</td>\n",
       "      <td>DEPUTY CHIEF OF DEPARTMENT,(FIRE DEPARTMENT)</td>\n",
       "      <td>134401.6</td>\n",
       "      <td>9737.0</td>\n",
       "      <td>182234.59</td>\n",
       "      <td>NaN</td>\n",
       "      <td>326373.19</td>\n",
       "      <td>326373.19</td>\n",
       "      <td>2011</td>\n",
       "      <td>NaN</td>\n",
       "      <td>San Francisco</td>\n",
       "      <td>NaN</td>\n",
       "    </tr>\n",
       "  </tbody>\n",
       "</table>\n",
       "</div>"
      ],
      "text/plain": [
       "   Id       EmployeeName                                        JobTitle  \\\n",
       "0   1     NATHANIEL FORD  GENERAL MANAGER-METROPOLITAN TRANSIT AUTHORITY   \n",
       "1   2       GARY JIMENEZ                 CAPTAIN III (POLICE DEPARTMENT)   \n",
       "2   3     ALBERT PARDINI                 CAPTAIN III (POLICE DEPARTMENT)   \n",
       "3   4  CHRISTOPHER CHONG            WIRE ROPE CABLE MAINTENANCE MECHANIC   \n",
       "4   5    PATRICK GARDNER    DEPUTY CHIEF OF DEPARTMENT,(FIRE DEPARTMENT)   \n",
       "\n",
       "     BasePay OvertimePay   OtherPay Benefits   TotalPay  TotalPayBenefits  \\\n",
       "0  167411.18         0.0  400184.25      NaN  567595.43         567595.43   \n",
       "1  155966.02   245131.88  137811.38      NaN  538909.28         538909.28   \n",
       "2  212739.13   106088.18    16452.6      NaN  335279.91         335279.91   \n",
       "3    77916.0    56120.71   198306.9      NaN  332343.61         332343.61   \n",
       "4   134401.6      9737.0  182234.59      NaN  326373.19         326373.19   \n",
       "\n",
       "   Year  Notes         Agency Status  \n",
       "0  2011    NaN  San Francisco    NaN  \n",
       "1  2011    NaN  San Francisco    NaN  \n",
       "2  2011    NaN  San Francisco    NaN  \n",
       "3  2011    NaN  San Francisco    NaN  \n",
       "4  2011    NaN  San Francisco    NaN  "
      ]
     },
     "execution_count": 5,
     "metadata": {},
     "output_type": "execute_result"
    }
   ],
   "source": [
    "# Your code here:\n",
    "salary.head()"
   ]
  },
  {
   "cell_type": "code",
   "execution_count": 5,
   "metadata": {
    "colab": {
     "base_uri": "https://localhost:8080/",
     "height": 530
    },
    "id": "MtrTvrTMzSx9",
    "outputId": "0dae2341-f13f-4cbe-a9ee-93804e23d1c0"
   },
   "outputs": [
    {
     "data": {
      "text/html": [
       "\n",
       "  <div id=\"df-61a113bb-ff3a-46bc-815c-31c8ac692264\">\n",
       "    <div class=\"colab-df-container\">\n",
       "      <div>\n",
       "<style scoped>\n",
       "    .dataframe tbody tr th:only-of-type {\n",
       "        vertical-align: middle;\n",
       "    }\n",
       "\n",
       "    .dataframe tbody tr th {\n",
       "        vertical-align: top;\n",
       "    }\n",
       "\n",
       "    .dataframe thead th {\n",
       "        text-align: right;\n",
       "    }\n",
       "</style>\n",
       "<table border=\"1\" class=\"dataframe\">\n",
       "  <thead>\n",
       "    <tr style=\"text-align: right;\">\n",
       "      <th></th>\n",
       "      <th>Id</th>\n",
       "      <th>EmployeeName</th>\n",
       "      <th>JobTitle</th>\n",
       "      <th>BasePay</th>\n",
       "      <th>OvertimePay</th>\n",
       "      <th>OtherPay</th>\n",
       "      <th>Benefits</th>\n",
       "      <th>TotalPay</th>\n",
       "      <th>TotalPayBenefits</th>\n",
       "      <th>Year</th>\n",
       "      <th>Notes</th>\n",
       "      <th>Agency</th>\n",
       "      <th>Status</th>\n",
       "    </tr>\n",
       "  </thead>\n",
       "  <tbody>\n",
       "    <tr>\n",
       "      <th>0</th>\n",
       "      <td>1</td>\n",
       "      <td>NATHANIEL FORD</td>\n",
       "      <td>GENERAL MANAGER-METROPOLITAN TRANSIT AUTHORITY</td>\n",
       "      <td>167411.18</td>\n",
       "      <td>0.0</td>\n",
       "      <td>400184.25</td>\n",
       "      <td>NaN</td>\n",
       "      <td>567595.43</td>\n",
       "      <td>567595.43</td>\n",
       "      <td>2011</td>\n",
       "      <td>NaN</td>\n",
       "      <td>San Francisco</td>\n",
       "      <td>NaN</td>\n",
       "    </tr>\n",
       "    <tr>\n",
       "      <th>1</th>\n",
       "      <td>2</td>\n",
       "      <td>GARY JIMENEZ</td>\n",
       "      <td>CAPTAIN III (POLICE DEPARTMENT)</td>\n",
       "      <td>155966.02</td>\n",
       "      <td>245131.88</td>\n",
       "      <td>137811.38</td>\n",
       "      <td>NaN</td>\n",
       "      <td>538909.28</td>\n",
       "      <td>538909.28</td>\n",
       "      <td>2011</td>\n",
       "      <td>NaN</td>\n",
       "      <td>San Francisco</td>\n",
       "      <td>NaN</td>\n",
       "    </tr>\n",
       "    <tr>\n",
       "      <th>2</th>\n",
       "      <td>3</td>\n",
       "      <td>ALBERT PARDINI</td>\n",
       "      <td>CAPTAIN III (POLICE DEPARTMENT)</td>\n",
       "      <td>212739.13</td>\n",
       "      <td>106088.18</td>\n",
       "      <td>16452.6</td>\n",
       "      <td>NaN</td>\n",
       "      <td>335279.91</td>\n",
       "      <td>335279.91</td>\n",
       "      <td>2011</td>\n",
       "      <td>NaN</td>\n",
       "      <td>San Francisco</td>\n",
       "      <td>NaN</td>\n",
       "    </tr>\n",
       "    <tr>\n",
       "      <th>3</th>\n",
       "      <td>4</td>\n",
       "      <td>CHRISTOPHER CHONG</td>\n",
       "      <td>WIRE ROPE CABLE MAINTENANCE MECHANIC</td>\n",
       "      <td>77916.0</td>\n",
       "      <td>56120.71</td>\n",
       "      <td>198306.9</td>\n",
       "      <td>NaN</td>\n",
       "      <td>332343.61</td>\n",
       "      <td>332343.61</td>\n",
       "      <td>2011</td>\n",
       "      <td>NaN</td>\n",
       "      <td>San Francisco</td>\n",
       "      <td>NaN</td>\n",
       "    </tr>\n",
       "    <tr>\n",
       "      <th>4</th>\n",
       "      <td>5</td>\n",
       "      <td>PATRICK GARDNER</td>\n",
       "      <td>DEPUTY CHIEF OF DEPARTMENT,(FIRE DEPARTMENT)</td>\n",
       "      <td>134401.6</td>\n",
       "      <td>9737.0</td>\n",
       "      <td>182234.59</td>\n",
       "      <td>NaN</td>\n",
       "      <td>326373.19</td>\n",
       "      <td>326373.19</td>\n",
       "      <td>2011</td>\n",
       "      <td>NaN</td>\n",
       "      <td>San Francisco</td>\n",
       "      <td>NaN</td>\n",
       "    </tr>\n",
       "  </tbody>\n",
       "</table>\n",
       "</div>\n",
       "      <button class=\"colab-df-convert\" onclick=\"convertToInteractive('df-61a113bb-ff3a-46bc-815c-31c8ac692264')\"\n",
       "              title=\"Convert this dataframe to an interactive table.\"\n",
       "              style=\"display:none;\">\n",
       "        \n",
       "  <svg xmlns=\"http://www.w3.org/2000/svg\" height=\"24px\"viewBox=\"0 0 24 24\"\n",
       "       width=\"24px\">\n",
       "    <path d=\"M0 0h24v24H0V0z\" fill=\"none\"/>\n",
       "    <path d=\"M18.56 5.44l.94 2.06.94-2.06 2.06-.94-2.06-.94-.94-2.06-.94 2.06-2.06.94zm-11 1L8.5 8.5l.94-2.06 2.06-.94-2.06-.94L8.5 2.5l-.94 2.06-2.06.94zm10 10l.94 2.06.94-2.06 2.06-.94-2.06-.94-.94-2.06-.94 2.06-2.06.94z\"/><path d=\"M17.41 7.96l-1.37-1.37c-.4-.4-.92-.59-1.43-.59-.52 0-1.04.2-1.43.59L10.3 9.45l-7.72 7.72c-.78.78-.78 2.05 0 2.83L4 21.41c.39.39.9.59 1.41.59.51 0 1.02-.2 1.41-.59l7.78-7.78 2.81-2.81c.8-.78.8-2.07 0-2.86zM5.41 20L4 18.59l7.72-7.72 1.47 1.35L5.41 20z\"/>\n",
       "  </svg>\n",
       "      </button>\n",
       "      \n",
       "  <style>\n",
       "    .colab-df-container {\n",
       "      display:flex;\n",
       "      flex-wrap:wrap;\n",
       "      gap: 12px;\n",
       "    }\n",
       "\n",
       "    .colab-df-convert {\n",
       "      background-color: #E8F0FE;\n",
       "      border: none;\n",
       "      border-radius: 50%;\n",
       "      cursor: pointer;\n",
       "      display: none;\n",
       "      fill: #1967D2;\n",
       "      height: 32px;\n",
       "      padding: 0 0 0 0;\n",
       "      width: 32px;\n",
       "    }\n",
       "\n",
       "    .colab-df-convert:hover {\n",
       "      background-color: #E2EBFA;\n",
       "      box-shadow: 0px 1px 2px rgba(60, 64, 67, 0.3), 0px 1px 3px 1px rgba(60, 64, 67, 0.15);\n",
       "      fill: #174EA6;\n",
       "    }\n",
       "\n",
       "    [theme=dark] .colab-df-convert {\n",
       "      background-color: #3B4455;\n",
       "      fill: #D2E3FC;\n",
       "    }\n",
       "\n",
       "    [theme=dark] .colab-df-convert:hover {\n",
       "      background-color: #434B5C;\n",
       "      box-shadow: 0px 1px 3px 1px rgba(0, 0, 0, 0.15);\n",
       "      filter: drop-shadow(0px 1px 2px rgba(0, 0, 0, 0.3));\n",
       "      fill: #FFFFFF;\n",
       "    }\n",
       "  </style>\n",
       "\n",
       "      <script>\n",
       "        const buttonEl =\n",
       "          document.querySelector('#df-61a113bb-ff3a-46bc-815c-31c8ac692264 button.colab-df-convert');\n",
       "        buttonEl.style.display =\n",
       "          google.colab.kernel.accessAllowed ? 'block' : 'none';\n",
       "\n",
       "        async function convertToInteractive(key) {\n",
       "          const element = document.querySelector('#df-61a113bb-ff3a-46bc-815c-31c8ac692264');\n",
       "          const dataTable =\n",
       "            await google.colab.kernel.invokeFunction('convertToInteractive',\n",
       "                                                     [key], {});\n",
       "          if (!dataTable) return;\n",
       "\n",
       "          const docLinkHtml = 'Like what you see? Visit the ' +\n",
       "            '<a target=\"_blank\" href=https://colab.research.google.com/notebooks/data_table.ipynb>data table notebook</a>'\n",
       "            + ' to learn more about interactive tables.';\n",
       "          element.innerHTML = '';\n",
       "          dataTable['output_type'] = 'display_data';\n",
       "          await google.colab.output.renderOutput(dataTable, element);\n",
       "          const docLink = document.createElement('div');\n",
       "          docLink.innerHTML = docLinkHtml;\n",
       "          element.appendChild(docLink);\n",
       "        }\n",
       "      </script>\n",
       "    </div>\n",
       "  </div>\n",
       "  "
      ],
      "text/plain": [
       "   Id       EmployeeName                                        JobTitle  \\\n",
       "0   1     NATHANIEL FORD  GENERAL MANAGER-METROPOLITAN TRANSIT AUTHORITY   \n",
       "1   2       GARY JIMENEZ                 CAPTAIN III (POLICE DEPARTMENT)   \n",
       "2   3     ALBERT PARDINI                 CAPTAIN III (POLICE DEPARTMENT)   \n",
       "3   4  CHRISTOPHER CHONG            WIRE ROPE CABLE MAINTENANCE MECHANIC   \n",
       "4   5    PATRICK GARDNER    DEPUTY CHIEF OF DEPARTMENT,(FIRE DEPARTMENT)   \n",
       "\n",
       "     BasePay OvertimePay   OtherPay Benefits   TotalPay  TotalPayBenefits  \\\n",
       "0  167411.18         0.0  400184.25      NaN  567595.43         567595.43   \n",
       "1  155966.02   245131.88  137811.38      NaN  538909.28         538909.28   \n",
       "2  212739.13   106088.18    16452.6      NaN  335279.91         335279.91   \n",
       "3    77916.0    56120.71   198306.9      NaN  332343.61         332343.61   \n",
       "4   134401.6      9737.0  182234.59      NaN  326373.19         326373.19   \n",
       "\n",
       "   Year  Notes         Agency Status  \n",
       "0  2011    NaN  San Francisco    NaN  \n",
       "1  2011    NaN  San Francisco    NaN  \n",
       "2  2011    NaN  San Francisco    NaN  \n",
       "3  2011    NaN  San Francisco    NaN  \n",
       "4  2011    NaN  San Francisco    NaN  "
      ]
     },
     "execution_count": 5,
     "metadata": {},
     "output_type": "execute_result"
    }
   ],
   "source": []
  },
  {
   "cell_type": "markdown",
   "metadata": {
    "id": "78ppeI4czSx-"
   },
   "source": [
    "We see from looking at the `head` function that there is quite a bit of missing data. Get the amount of missing data in every column"
   ]
  },
  {
   "cell_type": "code",
   "execution_count": 6,
   "metadata": {},
   "outputs": [
    {
     "data": {
      "text/plain": [
       "Id                       0\n",
       "EmployeeName             0\n",
       "JobTitle                 0\n",
       "BasePay                605\n",
       "OvertimePay              0\n",
       "OtherPay                 0\n",
       "Benefits             36159\n",
       "TotalPay                 0\n",
       "TotalPayBenefits         0\n",
       "Year                     0\n",
       "Notes               148654\n",
       "Agency                   0\n",
       "Status              110535\n",
       "dtype: int64"
      ]
     },
     "execution_count": 6,
     "metadata": {},
     "output_type": "execute_result"
    }
   ],
   "source": [
    "# Your code here:\n",
    "salary.isnull().sum()"
   ]
  },
  {
   "cell_type": "code",
   "execution_count": 6,
   "metadata": {
    "colab": {
     "base_uri": "https://localhost:8080/"
    },
    "id": "mqyrt17AzSx-",
    "outputId": "c0d862ff-8beb-417a-9b6e-2ae950c19492"
   },
   "outputs": [
    {
     "data": {
      "text/plain": [
       "Id                       0\n",
       "EmployeeName             0\n",
       "JobTitle                 0\n",
       "BasePay                605\n",
       "OvertimePay              0\n",
       "OtherPay                 0\n",
       "Benefits             36159\n",
       "TotalPay                 0\n",
       "TotalPayBenefits         0\n",
       "Year                     0\n",
       "Notes               148654\n",
       "Agency                   0\n",
       "Status              110535\n",
       "dtype: int64"
      ]
     },
     "execution_count": 6,
     "metadata": {},
     "output_type": "execute_result"
    }
   ],
   "source": []
  },
  {
   "cell_type": "markdown",
   "metadata": {
    "id": "P7_uHi3nzSx_"
   },
   "source": [
    "Get the shape of the dataframe"
   ]
  },
  {
   "cell_type": "code",
   "execution_count": 7,
   "metadata": {},
   "outputs": [
    {
     "data": {
      "text/plain": [
       "(148654, 13)"
      ]
     },
     "execution_count": 7,
     "metadata": {},
     "output_type": "execute_result"
    }
   ],
   "source": [
    "# Your code here\n",
    "salary.shape"
   ]
  },
  {
   "cell_type": "code",
   "execution_count": 7,
   "metadata": {
    "colab": {
     "base_uri": "https://localhost:8080/"
    },
    "id": "_cJvEdTgzSx_",
    "outputId": "61a90101-4466-42db-fc53-b2be109f586d"
   },
   "outputs": [
    {
     "data": {
      "text/plain": [
       "(148654, 13)"
      ]
     },
     "execution_count": 7,
     "metadata": {},
     "output_type": "execute_result"
    }
   ],
   "source": []
  },
  {
   "cell_type": "markdown",
   "metadata": {
    "id": "Dvi-WtBNzSyA"
   },
   "source": [
    "Given output of the previous two cells, drop the corresponding column and compute again the amount of missing values."
   ]
  },
  {
   "cell_type": "code",
   "execution_count": 8,
   "metadata": {},
   "outputs": [
    {
     "data": {
      "text/plain": [
       "Id                       0\n",
       "EmployeeName             0\n",
       "JobTitle                 0\n",
       "BasePay                605\n",
       "OvertimePay              0\n",
       "OtherPay                 0\n",
       "Benefits             36159\n",
       "TotalPay                 0\n",
       "TotalPayBenefits         0\n",
       "Year                     0\n",
       "Agency                   0\n",
       "Status              110535\n",
       "dtype: int64"
      ]
     },
     "execution_count": 8,
     "metadata": {},
     "output_type": "execute_result"
    }
   ],
   "source": [
    "# Your code here\n",
    "salary.drop(columns = 'Notes', axis = 1, inplace=True)\n",
    "salary.isnull().sum()"
   ]
  },
  {
   "cell_type": "code",
   "execution_count": 8,
   "metadata": {
    "colab": {
     "base_uri": "https://localhost:8080/"
    },
    "id": "qOynt6ZkzSyA",
    "outputId": "6e80e3ba-a79a-402d-e2be-996a8ab13c77"
   },
   "outputs": [
    {
     "data": {
      "text/plain": [
       "Id                       0\n",
       "EmployeeName             0\n",
       "JobTitle                 0\n",
       "BasePay                605\n",
       "OvertimePay              0\n",
       "OtherPay                 0\n",
       "Benefits             36159\n",
       "TotalPay                 0\n",
       "TotalPayBenefits         0\n",
       "Year                     0\n",
       "Agency                   0\n",
       "Status              110535\n",
       "dtype: int64"
      ]
     },
     "execution_count": 8,
     "metadata": {},
     "output_type": "execute_result"
    }
   ],
   "source": []
  },
  {
   "cell_type": "markdown",
   "metadata": {
    "id": "wrIJFfY4zSyB"
   },
   "source": [
    "Check out what are the possible values of the column \"Status\"."
   ]
  },
  {
   "cell_type": "code",
   "execution_count": 9,
   "metadata": {},
   "outputs": [
    {
     "data": {
      "text/plain": [
       "array([nan, 'PT', 'FT'], dtype=object)"
      ]
     },
     "execution_count": 9,
     "metadata": {},
     "output_type": "execute_result"
    }
   ],
   "source": [
    "# Your code here\n",
    "salary.Status.unique()"
   ]
  },
  {
   "cell_type": "code",
   "execution_count": 9,
   "metadata": {
    "colab": {
     "base_uri": "https://localhost:8080/"
    },
    "id": "3-rUObH9zSyB",
    "outputId": "8d9b940d-694c-401b-8535-d390e829acdc"
   },
   "outputs": [
    {
     "data": {
      "text/plain": [
       "array([nan, 'PT', 'FT'], dtype=object)"
      ]
     },
     "execution_count": 9,
     "metadata": {},
     "output_type": "execute_result"
    }
   ],
   "source": []
  },
  {
   "cell_type": "code",
   "execution_count": null,
   "metadata": {},
   "outputs": [],
   "source": []
  },
  {
   "cell_type": "markdown",
   "metadata": {
    "id": "s7c1YgwUzSyC"
   },
   "source": [
    "Drop any row with missing values in the \"Status\" column and compute again the number of missing values."
   ]
  },
  {
   "cell_type": "code",
   "execution_count": 10,
   "metadata": {},
   "outputs": [],
   "source": [
    "# Your code here\n",
    "i = salary[salary['Status'].notna()].index.tolist()\n",
    "salary = salary.loc[i, :]"
   ]
  },
  {
   "cell_type": "code",
   "execution_count": 11,
   "metadata": {
    "id": "RNuimPv6zSyC"
   },
   "outputs": [
    {
     "data": {
      "text/plain": [
       "Id                  0\n",
       "EmployeeName        0\n",
       "JobTitle            0\n",
       "BasePay             0\n",
       "OvertimePay         0\n",
       "OtherPay            0\n",
       "Benefits            0\n",
       "TotalPay            0\n",
       "TotalPayBenefits    0\n",
       "Year                0\n",
       "Agency              0\n",
       "Status              0\n",
       "dtype: int64"
      ]
     },
     "execution_count": 11,
     "metadata": {},
     "output_type": "execute_result"
    }
   ],
   "source": [
    "# Your code here\n",
    "salary.isnull().sum()"
   ]
  },
  {
   "cell_type": "code",
   "execution_count": 11,
   "metadata": {
    "colab": {
     "base_uri": "https://localhost:8080/"
    },
    "id": "vZzzRW3ezSyC",
    "outputId": "719afa36-7982-4685-c606-195ea8e0f658"
   },
   "outputs": [
    {
     "data": {
      "text/plain": [
       "Id                  0\n",
       "EmployeeName        0\n",
       "JobTitle            0\n",
       "BasePay             0\n",
       "OvertimePay         0\n",
       "OtherPay            0\n",
       "Benefits            0\n",
       "TotalPay            0\n",
       "TotalPayBenefits    0\n",
       "Year                0\n",
       "Agency              0\n",
       "Status              0\n",
       "dtype: int64"
      ]
     },
     "execution_count": 11,
     "metadata": {},
     "output_type": "execute_result"
    }
   ],
   "source": []
  },
  {
   "cell_type": "markdown",
   "metadata": {
    "id": "rxOUWb9AzSyD"
   },
   "source": [
    "Check out the types of each column and see if they make sense."
   ]
  },
  {
   "cell_type": "code",
   "execution_count": 12,
   "metadata": {},
   "outputs": [
    {
     "name": "stdout",
     "output_type": "stream",
     "text": [
      "<class 'pandas.core.frame.DataFrame'>\n",
      "Index: 38119 entries, 110531 to 148653\n",
      "Data columns (total 12 columns):\n",
      " #   Column            Non-Null Count  Dtype  \n",
      "---  ------            --------------  -----  \n",
      " 0   Id                38119 non-null  int64  \n",
      " 1   EmployeeName      38119 non-null  object \n",
      " 2   JobTitle          38119 non-null  object \n",
      " 3   BasePay           38119 non-null  object \n",
      " 4   OvertimePay       38119 non-null  object \n",
      " 5   OtherPay          38119 non-null  object \n",
      " 6   Benefits          38119 non-null  object \n",
      " 7   TotalPay          38119 non-null  float64\n",
      " 8   TotalPayBenefits  38119 non-null  float64\n",
      " 9   Year              38119 non-null  int64  \n",
      " 10  Agency            38119 non-null  object \n",
      " 11  Status            38119 non-null  object \n",
      "dtypes: float64(2), int64(2), object(8)\n",
      "memory usage: 3.8+ MB\n"
     ]
    }
   ],
   "source": [
    "# Your code here\n",
    "salary.info()"
   ]
  },
  {
   "cell_type": "code",
   "execution_count": 12,
   "metadata": {
    "colab": {
     "base_uri": "https://localhost:8080/"
    },
    "id": "MYtPT0MJzSyD",
    "outputId": "7fc00b2a-b36b-4e0d-fc11-3b87e284ce92"
   },
   "outputs": [
    {
     "name": "stdout",
     "output_type": "stream",
     "text": [
      "<class 'pandas.core.frame.DataFrame'>\n",
      "Int64Index: 38119 entries, 110531 to 148653\n",
      "Data columns (total 12 columns):\n",
      " #   Column            Non-Null Count  Dtype  \n",
      "---  ------            --------------  -----  \n",
      " 0   Id                38119 non-null  int64  \n",
      " 1   EmployeeName      38119 non-null  object \n",
      " 2   JobTitle          38119 non-null  object \n",
      " 3   BasePay           38119 non-null  object \n",
      " 4   OvertimePay       38119 non-null  object \n",
      " 5   OtherPay          38119 non-null  object \n",
      " 6   Benefits          38119 non-null  object \n",
      " 7   TotalPay          38119 non-null  float64\n",
      " 8   TotalPayBenefits  38119 non-null  float64\n",
      " 9   Year              38119 non-null  int64  \n",
      " 10  Agency            38119 non-null  object \n",
      " 11  Status            38119 non-null  object \n",
      "dtypes: float64(2), int64(2), object(8)\n",
      "memory usage: 3.8+ MB\n"
     ]
    }
   ],
   "source": []
  },
  {
   "cell_type": "code",
   "execution_count": 13,
   "metadata": {},
   "outputs": [
    {
     "data": {
      "text/html": [
       "<div>\n",
       "<style scoped>\n",
       "    .dataframe tbody tr th:only-of-type {\n",
       "        vertical-align: middle;\n",
       "    }\n",
       "\n",
       "    .dataframe tbody tr th {\n",
       "        vertical-align: top;\n",
       "    }\n",
       "\n",
       "    .dataframe thead th {\n",
       "        text-align: right;\n",
       "    }\n",
       "</style>\n",
       "<table border=\"1\" class=\"dataframe\">\n",
       "  <thead>\n",
       "    <tr style=\"text-align: right;\">\n",
       "      <th></th>\n",
       "      <th>Id</th>\n",
       "      <th>EmployeeName</th>\n",
       "      <th>JobTitle</th>\n",
       "      <th>BasePay</th>\n",
       "      <th>OvertimePay</th>\n",
       "      <th>OtherPay</th>\n",
       "      <th>Benefits</th>\n",
       "      <th>TotalPay</th>\n",
       "      <th>TotalPayBenefits</th>\n",
       "      <th>Year</th>\n",
       "      <th>Agency</th>\n",
       "      <th>Status</th>\n",
       "    </tr>\n",
       "  </thead>\n",
       "  <tbody>\n",
       "    <tr>\n",
       "      <th>110531</th>\n",
       "      <td>110532</td>\n",
       "      <td>David Shinn</td>\n",
       "      <td>Deputy Chief 3</td>\n",
       "      <td>129150.01</td>\n",
       "      <td>0.0</td>\n",
       "      <td>342802.63</td>\n",
       "      <td>38780.04</td>\n",
       "      <td>471952.64</td>\n",
       "      <td>510732.68</td>\n",
       "      <td>2014</td>\n",
       "      <td>San Francisco</td>\n",
       "      <td>PT</td>\n",
       "    </tr>\n",
       "    <tr>\n",
       "      <th>110532</th>\n",
       "      <td>110533</td>\n",
       "      <td>Amy P Hart</td>\n",
       "      <td>Asst Med Examiner</td>\n",
       "      <td>318835.49</td>\n",
       "      <td>10712.95</td>\n",
       "      <td>60563.54</td>\n",
       "      <td>89540.23</td>\n",
       "      <td>390111.98</td>\n",
       "      <td>479652.21</td>\n",
       "      <td>2014</td>\n",
       "      <td>San Francisco</td>\n",
       "      <td>FT</td>\n",
       "    </tr>\n",
       "    <tr>\n",
       "      <th>110533</th>\n",
       "      <td>110534</td>\n",
       "      <td>William J Coaker Jr.</td>\n",
       "      <td>Chief Investment Officer</td>\n",
       "      <td>257340.0</td>\n",
       "      <td>0.0</td>\n",
       "      <td>82313.7</td>\n",
       "      <td>96570.66</td>\n",
       "      <td>339653.70</td>\n",
       "      <td>436224.36</td>\n",
       "      <td>2014</td>\n",
       "      <td>San Francisco</td>\n",
       "      <td>PT</td>\n",
       "    </tr>\n",
       "    <tr>\n",
       "      <th>110534</th>\n",
       "      <td>110535</td>\n",
       "      <td>Gregory P Suhr</td>\n",
       "      <td>Chief of Police</td>\n",
       "      <td>307450.04</td>\n",
       "      <td>0.0</td>\n",
       "      <td>19266.72</td>\n",
       "      <td>91302.46</td>\n",
       "      <td>326716.76</td>\n",
       "      <td>418019.22</td>\n",
       "      <td>2014</td>\n",
       "      <td>San Francisco</td>\n",
       "      <td>FT</td>\n",
       "    </tr>\n",
       "    <tr>\n",
       "      <th>110535</th>\n",
       "      <td>110536</td>\n",
       "      <td>Joanne M Hayes-White</td>\n",
       "      <td>Chief, Fire Department</td>\n",
       "      <td>302068.0</td>\n",
       "      <td>0.0</td>\n",
       "      <td>24165.44</td>\n",
       "      <td>91201.66</td>\n",
       "      <td>326233.44</td>\n",
       "      <td>417435.10</td>\n",
       "      <td>2014</td>\n",
       "      <td>San Francisco</td>\n",
       "      <td>FT</td>\n",
       "    </tr>\n",
       "  </tbody>\n",
       "</table>\n",
       "</div>"
      ],
      "text/plain": [
       "            Id          EmployeeName                  JobTitle    BasePay  \\\n",
       "110531  110532           David Shinn            Deputy Chief 3  129150.01   \n",
       "110532  110533            Amy P Hart         Asst Med Examiner  318835.49   \n",
       "110533  110534  William J Coaker Jr.  Chief Investment Officer   257340.0   \n",
       "110534  110535        Gregory P Suhr           Chief of Police  307450.04   \n",
       "110535  110536  Joanne M Hayes-White    Chief, Fire Department   302068.0   \n",
       "\n",
       "       OvertimePay   OtherPay  Benefits   TotalPay  TotalPayBenefits  Year  \\\n",
       "110531         0.0  342802.63  38780.04  471952.64         510732.68  2014   \n",
       "110532    10712.95   60563.54  89540.23  390111.98         479652.21  2014   \n",
       "110533         0.0    82313.7  96570.66  339653.70         436224.36  2014   \n",
       "110534         0.0   19266.72  91302.46  326716.76         418019.22  2014   \n",
       "110535         0.0   24165.44  91201.66  326233.44         417435.10  2014   \n",
       "\n",
       "               Agency Status  \n",
       "110531  San Francisco     PT  \n",
       "110532  San Francisco     FT  \n",
       "110533  San Francisco     PT  \n",
       "110534  San Francisco     FT  \n",
       "110535  San Francisco     FT  "
      ]
     },
     "execution_count": 13,
     "metadata": {},
     "output_type": "execute_result"
    }
   ],
   "source": [
    "# Your code here\n",
    "salary.head()"
   ]
  },
  {
   "cell_type": "code",
   "execution_count": 13,
   "metadata": {
    "colab": {
     "base_uri": "https://localhost:8080/",
     "height": 374
    },
    "id": "8mJv_l6HzSyE",
    "outputId": "5dd1494c-537e-4a0b-c0c0-761ee64a00dd"
   },
   "outputs": [
    {
     "data": {
      "text/html": [
       "\n",
       "  <div id=\"df-acd7af5f-deca-471b-8008-08a7ef418648\">\n",
       "    <div class=\"colab-df-container\">\n",
       "      <div>\n",
       "<style scoped>\n",
       "    .dataframe tbody tr th:only-of-type {\n",
       "        vertical-align: middle;\n",
       "    }\n",
       "\n",
       "    .dataframe tbody tr th {\n",
       "        vertical-align: top;\n",
       "    }\n",
       "\n",
       "    .dataframe thead th {\n",
       "        text-align: right;\n",
       "    }\n",
       "</style>\n",
       "<table border=\"1\" class=\"dataframe\">\n",
       "  <thead>\n",
       "    <tr style=\"text-align: right;\">\n",
       "      <th></th>\n",
       "      <th>Id</th>\n",
       "      <th>EmployeeName</th>\n",
       "      <th>JobTitle</th>\n",
       "      <th>BasePay</th>\n",
       "      <th>OvertimePay</th>\n",
       "      <th>OtherPay</th>\n",
       "      <th>Benefits</th>\n",
       "      <th>TotalPay</th>\n",
       "      <th>TotalPayBenefits</th>\n",
       "      <th>Year</th>\n",
       "      <th>Agency</th>\n",
       "      <th>Status</th>\n",
       "    </tr>\n",
       "  </thead>\n",
       "  <tbody>\n",
       "    <tr>\n",
       "      <th>110531</th>\n",
       "      <td>110532</td>\n",
       "      <td>David Shinn</td>\n",
       "      <td>Deputy Chief 3</td>\n",
       "      <td>129150.01</td>\n",
       "      <td>0.0</td>\n",
       "      <td>342802.63</td>\n",
       "      <td>38780.04</td>\n",
       "      <td>471952.64</td>\n",
       "      <td>510732.68</td>\n",
       "      <td>2014</td>\n",
       "      <td>San Francisco</td>\n",
       "      <td>PT</td>\n",
       "    </tr>\n",
       "    <tr>\n",
       "      <th>110532</th>\n",
       "      <td>110533</td>\n",
       "      <td>Amy P Hart</td>\n",
       "      <td>Asst Med Examiner</td>\n",
       "      <td>318835.49</td>\n",
       "      <td>10712.95</td>\n",
       "      <td>60563.54</td>\n",
       "      <td>89540.23</td>\n",
       "      <td>390111.98</td>\n",
       "      <td>479652.21</td>\n",
       "      <td>2014</td>\n",
       "      <td>San Francisco</td>\n",
       "      <td>FT</td>\n",
       "    </tr>\n",
       "    <tr>\n",
       "      <th>110533</th>\n",
       "      <td>110534</td>\n",
       "      <td>William J Coaker Jr.</td>\n",
       "      <td>Chief Investment Officer</td>\n",
       "      <td>257340.0</td>\n",
       "      <td>0.0</td>\n",
       "      <td>82313.7</td>\n",
       "      <td>96570.66</td>\n",
       "      <td>339653.70</td>\n",
       "      <td>436224.36</td>\n",
       "      <td>2014</td>\n",
       "      <td>San Francisco</td>\n",
       "      <td>PT</td>\n",
       "    </tr>\n",
       "    <tr>\n",
       "      <th>110534</th>\n",
       "      <td>110535</td>\n",
       "      <td>Gregory P Suhr</td>\n",
       "      <td>Chief of Police</td>\n",
       "      <td>307450.04</td>\n",
       "      <td>0.0</td>\n",
       "      <td>19266.72</td>\n",
       "      <td>91302.46</td>\n",
       "      <td>326716.76</td>\n",
       "      <td>418019.22</td>\n",
       "      <td>2014</td>\n",
       "      <td>San Francisco</td>\n",
       "      <td>FT</td>\n",
       "    </tr>\n",
       "    <tr>\n",
       "      <th>110535</th>\n",
       "      <td>110536</td>\n",
       "      <td>Joanne M Hayes-White</td>\n",
       "      <td>Chief, Fire Department</td>\n",
       "      <td>302068.0</td>\n",
       "      <td>0.0</td>\n",
       "      <td>24165.44</td>\n",
       "      <td>91201.66</td>\n",
       "      <td>326233.44</td>\n",
       "      <td>417435.10</td>\n",
       "      <td>2014</td>\n",
       "      <td>San Francisco</td>\n",
       "      <td>FT</td>\n",
       "    </tr>\n",
       "  </tbody>\n",
       "</table>\n",
       "</div>\n",
       "      <button class=\"colab-df-convert\" onclick=\"convertToInteractive('df-acd7af5f-deca-471b-8008-08a7ef418648')\"\n",
       "              title=\"Convert this dataframe to an interactive table.\"\n",
       "              style=\"display:none;\">\n",
       "        \n",
       "  <svg xmlns=\"http://www.w3.org/2000/svg\" height=\"24px\"viewBox=\"0 0 24 24\"\n",
       "       width=\"24px\">\n",
       "    <path d=\"M0 0h24v24H0V0z\" fill=\"none\"/>\n",
       "    <path d=\"M18.56 5.44l.94 2.06.94-2.06 2.06-.94-2.06-.94-.94-2.06-.94 2.06-2.06.94zm-11 1L8.5 8.5l.94-2.06 2.06-.94-2.06-.94L8.5 2.5l-.94 2.06-2.06.94zm10 10l.94 2.06.94-2.06 2.06-.94-2.06-.94-.94-2.06-.94 2.06-2.06.94z\"/><path d=\"M17.41 7.96l-1.37-1.37c-.4-.4-.92-.59-1.43-.59-.52 0-1.04.2-1.43.59L10.3 9.45l-7.72 7.72c-.78.78-.78 2.05 0 2.83L4 21.41c.39.39.9.59 1.41.59.51 0 1.02-.2 1.41-.59l7.78-7.78 2.81-2.81c.8-.78.8-2.07 0-2.86zM5.41 20L4 18.59l7.72-7.72 1.47 1.35L5.41 20z\"/>\n",
       "  </svg>\n",
       "      </button>\n",
       "      \n",
       "  <style>\n",
       "    .colab-df-container {\n",
       "      display:flex;\n",
       "      flex-wrap:wrap;\n",
       "      gap: 12px;\n",
       "    }\n",
       "\n",
       "    .colab-df-convert {\n",
       "      background-color: #E8F0FE;\n",
       "      border: none;\n",
       "      border-radius: 50%;\n",
       "      cursor: pointer;\n",
       "      display: none;\n",
       "      fill: #1967D2;\n",
       "      height: 32px;\n",
       "      padding: 0 0 0 0;\n",
       "      width: 32px;\n",
       "    }\n",
       "\n",
       "    .colab-df-convert:hover {\n",
       "      background-color: #E2EBFA;\n",
       "      box-shadow: 0px 1px 2px rgba(60, 64, 67, 0.3), 0px 1px 3px 1px rgba(60, 64, 67, 0.15);\n",
       "      fill: #174EA6;\n",
       "    }\n",
       "\n",
       "    [theme=dark] .colab-df-convert {\n",
       "      background-color: #3B4455;\n",
       "      fill: #D2E3FC;\n",
       "    }\n",
       "\n",
       "    [theme=dark] .colab-df-convert:hover {\n",
       "      background-color: #434B5C;\n",
       "      box-shadow: 0px 1px 3px 1px rgba(0, 0, 0, 0.15);\n",
       "      filter: drop-shadow(0px 1px 2px rgba(0, 0, 0, 0.3));\n",
       "      fill: #FFFFFF;\n",
       "    }\n",
       "  </style>\n",
       "\n",
       "      <script>\n",
       "        const buttonEl =\n",
       "          document.querySelector('#df-acd7af5f-deca-471b-8008-08a7ef418648 button.colab-df-convert');\n",
       "        buttonEl.style.display =\n",
       "          google.colab.kernel.accessAllowed ? 'block' : 'none';\n",
       "\n",
       "        async function convertToInteractive(key) {\n",
       "          const element = document.querySelector('#df-acd7af5f-deca-471b-8008-08a7ef418648');\n",
       "          const dataTable =\n",
       "            await google.colab.kernel.invokeFunction('convertToInteractive',\n",
       "                                                     [key], {});\n",
       "          if (!dataTable) return;\n",
       "\n",
       "          const docLinkHtml = 'Like what you see? Visit the ' +\n",
       "            '<a target=\"_blank\" href=https://colab.research.google.com/notebooks/data_table.ipynb>data table notebook</a>'\n",
       "            + ' to learn more about interactive tables.';\n",
       "          element.innerHTML = '';\n",
       "          dataTable['output_type'] = 'display_data';\n",
       "          await google.colab.output.renderOutput(dataTable, element);\n",
       "          const docLink = document.createElement('div');\n",
       "          docLink.innerHTML = docLinkHtml;\n",
       "          element.appendChild(docLink);\n",
       "        }\n",
       "      </script>\n",
       "    </div>\n",
       "  </div>\n",
       "  "
      ],
      "text/plain": [
       "            Id          EmployeeName                  JobTitle    BasePay  \\\n",
       "110531  110532           David Shinn            Deputy Chief 3  129150.01   \n",
       "110532  110533            Amy P Hart         Asst Med Examiner  318835.49   \n",
       "110533  110534  William J Coaker Jr.  Chief Investment Officer   257340.0   \n",
       "110534  110535        Gregory P Suhr           Chief of Police  307450.04   \n",
       "110535  110536  Joanne M Hayes-White    Chief, Fire Department   302068.0   \n",
       "\n",
       "       OvertimePay   OtherPay  Benefits   TotalPay  TotalPayBenefits  Year  \\\n",
       "110531         0.0  342802.63  38780.04  471952.64         510732.68  2014   \n",
       "110532    10712.95   60563.54  89540.23  390111.98         479652.21  2014   \n",
       "110533         0.0    82313.7  96570.66  339653.70         436224.36  2014   \n",
       "110534         0.0   19266.72  91302.46  326716.76         418019.22  2014   \n",
       "110535         0.0   24165.44  91201.66  326233.44         417435.10  2014   \n",
       "\n",
       "               Agency Status  \n",
       "110531  San Francisco     PT  \n",
       "110532  San Francisco     FT  \n",
       "110533  San Francisco     PT  \n",
       "110534  San Francisco     FT  \n",
       "110535  San Francisco     FT  "
      ]
     },
     "execution_count": 13,
     "metadata": {},
     "output_type": "execute_result"
    }
   ],
   "source": []
  },
  {
   "cell_type": "markdown",
   "metadata": {
    "id": "lLEKu7vxzSyE"
   },
   "source": [
    "Do any type conversions and reset the index."
   ]
  },
  {
   "cell_type": "code",
   "execution_count": 14,
   "metadata": {},
   "outputs": [
    {
     "name": "stdout",
     "output_type": "stream",
     "text": [
      "<class 'pandas.core.frame.DataFrame'>\n",
      "Index: 38119 entries, 110531 to 148653\n",
      "Data columns (total 12 columns):\n",
      " #   Column            Non-Null Count  Dtype  \n",
      "---  ------            --------------  -----  \n",
      " 0   Id                38119 non-null  object \n",
      " 1   EmployeeName      38119 non-null  object \n",
      " 2   JobTitle          38119 non-null  object \n",
      " 3   BasePay           38119 non-null  float64\n",
      " 4   OvertimePay       38119 non-null  float64\n",
      " 5   OtherPay          38119 non-null  float64\n",
      " 6   Benefits          38119 non-null  float64\n",
      " 7   TotalPay          38119 non-null  float64\n",
      " 8   TotalPayBenefits  38119 non-null  float64\n",
      " 9   Year              38119 non-null  int64  \n",
      " 10  Agency            38119 non-null  object \n",
      " 11  Status            38119 non-null  object \n",
      "dtypes: float64(6), int64(1), object(5)\n",
      "memory usage: 3.8+ MB\n"
     ]
    }
   ],
   "source": [
    "# Your code here\n",
    "salary['Id'] = salary['Id'].astype(object)\n",
    "for i in ['BasePay', 'OvertimePay', 'OtherPay', 'Benefits']:\n",
    "    salary[i] = salary[i].astype(float)\n",
    "salary.info()"
   ]
  },
  {
   "cell_type": "code",
   "execution_count": 14,
   "metadata": {
    "id": "ufFv58v_zSyE"
   },
   "outputs": [],
   "source": []
  },
  {
   "cell_type": "code",
   "execution_count": 15,
   "metadata": {},
   "outputs": [
    {
     "data": {
      "text/html": [
       "<div>\n",
       "<style scoped>\n",
       "    .dataframe tbody tr th:only-of-type {\n",
       "        vertical-align: middle;\n",
       "    }\n",
       "\n",
       "    .dataframe tbody tr th {\n",
       "        vertical-align: top;\n",
       "    }\n",
       "\n",
       "    .dataframe thead th {\n",
       "        text-align: right;\n",
       "    }\n",
       "</style>\n",
       "<table border=\"1\" class=\"dataframe\">\n",
       "  <thead>\n",
       "    <tr style=\"text-align: right;\">\n",
       "      <th></th>\n",
       "      <th>Id</th>\n",
       "      <th>EmployeeName</th>\n",
       "      <th>JobTitle</th>\n",
       "      <th>BasePay</th>\n",
       "      <th>OvertimePay</th>\n",
       "      <th>OtherPay</th>\n",
       "      <th>Benefits</th>\n",
       "      <th>TotalPay</th>\n",
       "      <th>TotalPayBenefits</th>\n",
       "      <th>Year</th>\n",
       "      <th>Agency</th>\n",
       "      <th>Status</th>\n",
       "    </tr>\n",
       "  </thead>\n",
       "  <tbody>\n",
       "    <tr>\n",
       "      <th>0</th>\n",
       "      <td>110532</td>\n",
       "      <td>David Shinn</td>\n",
       "      <td>Deputy Chief 3</td>\n",
       "      <td>129150.01</td>\n",
       "      <td>0.00</td>\n",
       "      <td>342802.63</td>\n",
       "      <td>38780.04</td>\n",
       "      <td>471952.64</td>\n",
       "      <td>510732.68</td>\n",
       "      <td>2014</td>\n",
       "      <td>San Francisco</td>\n",
       "      <td>PT</td>\n",
       "    </tr>\n",
       "    <tr>\n",
       "      <th>1</th>\n",
       "      <td>110533</td>\n",
       "      <td>Amy P Hart</td>\n",
       "      <td>Asst Med Examiner</td>\n",
       "      <td>318835.49</td>\n",
       "      <td>10712.95</td>\n",
       "      <td>60563.54</td>\n",
       "      <td>89540.23</td>\n",
       "      <td>390111.98</td>\n",
       "      <td>479652.21</td>\n",
       "      <td>2014</td>\n",
       "      <td>San Francisco</td>\n",
       "      <td>FT</td>\n",
       "    </tr>\n",
       "    <tr>\n",
       "      <th>2</th>\n",
       "      <td>110534</td>\n",
       "      <td>William J Coaker Jr.</td>\n",
       "      <td>Chief Investment Officer</td>\n",
       "      <td>257340.00</td>\n",
       "      <td>0.00</td>\n",
       "      <td>82313.70</td>\n",
       "      <td>96570.66</td>\n",
       "      <td>339653.70</td>\n",
       "      <td>436224.36</td>\n",
       "      <td>2014</td>\n",
       "      <td>San Francisco</td>\n",
       "      <td>PT</td>\n",
       "    </tr>\n",
       "    <tr>\n",
       "      <th>3</th>\n",
       "      <td>110535</td>\n",
       "      <td>Gregory P Suhr</td>\n",
       "      <td>Chief of Police</td>\n",
       "      <td>307450.04</td>\n",
       "      <td>0.00</td>\n",
       "      <td>19266.72</td>\n",
       "      <td>91302.46</td>\n",
       "      <td>326716.76</td>\n",
       "      <td>418019.22</td>\n",
       "      <td>2014</td>\n",
       "      <td>San Francisco</td>\n",
       "      <td>FT</td>\n",
       "    </tr>\n",
       "    <tr>\n",
       "      <th>4</th>\n",
       "      <td>110536</td>\n",
       "      <td>Joanne M Hayes-White</td>\n",
       "      <td>Chief, Fire Department</td>\n",
       "      <td>302068.00</td>\n",
       "      <td>0.00</td>\n",
       "      <td>24165.44</td>\n",
       "      <td>91201.66</td>\n",
       "      <td>326233.44</td>\n",
       "      <td>417435.10</td>\n",
       "      <td>2014</td>\n",
       "      <td>San Francisco</td>\n",
       "      <td>FT</td>\n",
       "    </tr>\n",
       "    <tr>\n",
       "      <th>...</th>\n",
       "      <td>...</td>\n",
       "      <td>...</td>\n",
       "      <td>...</td>\n",
       "      <td>...</td>\n",
       "      <td>...</td>\n",
       "      <td>...</td>\n",
       "      <td>...</td>\n",
       "      <td>...</td>\n",
       "      <td>...</td>\n",
       "      <td>...</td>\n",
       "      <td>...</td>\n",
       "      <td>...</td>\n",
       "    </tr>\n",
       "    <tr>\n",
       "      <th>38114</th>\n",
       "      <td>148646</td>\n",
       "      <td>Carolyn A Wilson</td>\n",
       "      <td>Human Services Technician</td>\n",
       "      <td>0.00</td>\n",
       "      <td>0.00</td>\n",
       "      <td>0.00</td>\n",
       "      <td>0.00</td>\n",
       "      <td>0.00</td>\n",
       "      <td>0.00</td>\n",
       "      <td>2014</td>\n",
       "      <td>San Francisco</td>\n",
       "      <td>PT</td>\n",
       "    </tr>\n",
       "    <tr>\n",
       "      <th>38115</th>\n",
       "      <td>148648</td>\n",
       "      <td>Joann Anderson</td>\n",
       "      <td>Communications Dispatcher 2</td>\n",
       "      <td>0.00</td>\n",
       "      <td>0.00</td>\n",
       "      <td>0.00</td>\n",
       "      <td>0.00</td>\n",
       "      <td>0.00</td>\n",
       "      <td>0.00</td>\n",
       "      <td>2014</td>\n",
       "      <td>San Francisco</td>\n",
       "      <td>PT</td>\n",
       "    </tr>\n",
       "    <tr>\n",
       "      <th>38116</th>\n",
       "      <td>148649</td>\n",
       "      <td>Leon Walker</td>\n",
       "      <td>Custodian</td>\n",
       "      <td>0.00</td>\n",
       "      <td>0.00</td>\n",
       "      <td>0.00</td>\n",
       "      <td>0.00</td>\n",
       "      <td>0.00</td>\n",
       "      <td>0.00</td>\n",
       "      <td>2014</td>\n",
       "      <td>San Francisco</td>\n",
       "      <td>PT</td>\n",
       "    </tr>\n",
       "    <tr>\n",
       "      <th>38117</th>\n",
       "      <td>148650</td>\n",
       "      <td>Roy I Tillery</td>\n",
       "      <td>Custodian</td>\n",
       "      <td>0.00</td>\n",
       "      <td>0.00</td>\n",
       "      <td>0.00</td>\n",
       "      <td>0.00</td>\n",
       "      <td>0.00</td>\n",
       "      <td>0.00</td>\n",
       "      <td>2014</td>\n",
       "      <td>San Francisco</td>\n",
       "      <td>PT</td>\n",
       "    </tr>\n",
       "    <tr>\n",
       "      <th>38118</th>\n",
       "      <td>148654</td>\n",
       "      <td>Joe Lopez</td>\n",
       "      <td>Counselor, Log Cabin Ranch</td>\n",
       "      <td>0.00</td>\n",
       "      <td>0.00</td>\n",
       "      <td>-618.13</td>\n",
       "      <td>0.00</td>\n",
       "      <td>-618.13</td>\n",
       "      <td>-618.13</td>\n",
       "      <td>2014</td>\n",
       "      <td>San Francisco</td>\n",
       "      <td>PT</td>\n",
       "    </tr>\n",
       "  </tbody>\n",
       "</table>\n",
       "<p>38119 rows × 12 columns</p>\n",
       "</div>"
      ],
      "text/plain": [
       "           Id          EmployeeName                     JobTitle    BasePay  \\\n",
       "0      110532           David Shinn               Deputy Chief 3  129150.01   \n",
       "1      110533            Amy P Hart            Asst Med Examiner  318835.49   \n",
       "2      110534  William J Coaker Jr.     Chief Investment Officer  257340.00   \n",
       "3      110535        Gregory P Suhr              Chief of Police  307450.04   \n",
       "4      110536  Joanne M Hayes-White       Chief, Fire Department  302068.00   \n",
       "...       ...                   ...                          ...        ...   \n",
       "38114  148646      Carolyn A Wilson    Human Services Technician       0.00   \n",
       "38115  148648        Joann Anderson  Communications Dispatcher 2       0.00   \n",
       "38116  148649           Leon Walker                    Custodian       0.00   \n",
       "38117  148650         Roy I Tillery                    Custodian       0.00   \n",
       "38118  148654             Joe Lopez   Counselor, Log Cabin Ranch       0.00   \n",
       "\n",
       "       OvertimePay   OtherPay  Benefits   TotalPay  TotalPayBenefits  Year  \\\n",
       "0             0.00  342802.63  38780.04  471952.64         510732.68  2014   \n",
       "1         10712.95   60563.54  89540.23  390111.98         479652.21  2014   \n",
       "2             0.00   82313.70  96570.66  339653.70         436224.36  2014   \n",
       "3             0.00   19266.72  91302.46  326716.76         418019.22  2014   \n",
       "4             0.00   24165.44  91201.66  326233.44         417435.10  2014   \n",
       "...            ...        ...       ...        ...               ...   ...   \n",
       "38114         0.00       0.00      0.00       0.00              0.00  2014   \n",
       "38115         0.00       0.00      0.00       0.00              0.00  2014   \n",
       "38116         0.00       0.00      0.00       0.00              0.00  2014   \n",
       "38117         0.00       0.00      0.00       0.00              0.00  2014   \n",
       "38118         0.00    -618.13      0.00    -618.13           -618.13  2014   \n",
       "\n",
       "              Agency Status  \n",
       "0      San Francisco     PT  \n",
       "1      San Francisco     FT  \n",
       "2      San Francisco     PT  \n",
       "3      San Francisco     FT  \n",
       "4      San Francisco     FT  \n",
       "...              ...    ...  \n",
       "38114  San Francisco     PT  \n",
       "38115  San Francisco     PT  \n",
       "38116  San Francisco     PT  \n",
       "38117  San Francisco     PT  \n",
       "38118  San Francisco     PT  \n",
       "\n",
       "[38119 rows x 12 columns]"
      ]
     },
     "execution_count": 15,
     "metadata": {},
     "output_type": "execute_result"
    }
   ],
   "source": [
    "# Your code here\n",
    "salary.reset_index(inplace=True)\n",
    "salary.drop(columns = ['index'], inplace=True)\n",
    "salary"
   ]
  },
  {
   "cell_type": "code",
   "execution_count": 15,
   "metadata": {
    "colab": {
     "base_uri": "https://localhost:8080/",
     "height": 374
    },
    "id": "mf7huPFRzSyF",
    "outputId": "3d84ce08-71e7-4121-91ea-bc6e777d0b9f"
   },
   "outputs": [
    {
     "data": {
      "text/html": [
       "\n",
       "  <div id=\"df-1b0914ac-6dea-4fbd-909c-d36600c2670c\">\n",
       "    <div class=\"colab-df-container\">\n",
       "      <div>\n",
       "<style scoped>\n",
       "    .dataframe tbody tr th:only-of-type {\n",
       "        vertical-align: middle;\n",
       "    }\n",
       "\n",
       "    .dataframe tbody tr th {\n",
       "        vertical-align: top;\n",
       "    }\n",
       "\n",
       "    .dataframe thead th {\n",
       "        text-align: right;\n",
       "    }\n",
       "</style>\n",
       "<table border=\"1\" class=\"dataframe\">\n",
       "  <thead>\n",
       "    <tr style=\"text-align: right;\">\n",
       "      <th></th>\n",
       "      <th>Id</th>\n",
       "      <th>EmployeeName</th>\n",
       "      <th>JobTitle</th>\n",
       "      <th>BasePay</th>\n",
       "      <th>OvertimePay</th>\n",
       "      <th>OtherPay</th>\n",
       "      <th>Benefits</th>\n",
       "      <th>TotalPay</th>\n",
       "      <th>TotalPayBenefits</th>\n",
       "      <th>Year</th>\n",
       "      <th>Agency</th>\n",
       "      <th>Status</th>\n",
       "    </tr>\n",
       "  </thead>\n",
       "  <tbody>\n",
       "    <tr>\n",
       "      <th>0</th>\n",
       "      <td>110532</td>\n",
       "      <td>David Shinn</td>\n",
       "      <td>Deputy Chief 3</td>\n",
       "      <td>129150.01</td>\n",
       "      <td>0.00</td>\n",
       "      <td>342802.63</td>\n",
       "      <td>38780.04</td>\n",
       "      <td>471952.64</td>\n",
       "      <td>510732.68</td>\n",
       "      <td>2014</td>\n",
       "      <td>San Francisco</td>\n",
       "      <td>PT</td>\n",
       "    </tr>\n",
       "    <tr>\n",
       "      <th>1</th>\n",
       "      <td>110533</td>\n",
       "      <td>Amy P Hart</td>\n",
       "      <td>Asst Med Examiner</td>\n",
       "      <td>318835.49</td>\n",
       "      <td>10712.95</td>\n",
       "      <td>60563.54</td>\n",
       "      <td>89540.23</td>\n",
       "      <td>390111.98</td>\n",
       "      <td>479652.21</td>\n",
       "      <td>2014</td>\n",
       "      <td>San Francisco</td>\n",
       "      <td>FT</td>\n",
       "    </tr>\n",
       "    <tr>\n",
       "      <th>2</th>\n",
       "      <td>110534</td>\n",
       "      <td>William J Coaker Jr.</td>\n",
       "      <td>Chief Investment Officer</td>\n",
       "      <td>257340.00</td>\n",
       "      <td>0.00</td>\n",
       "      <td>82313.70</td>\n",
       "      <td>96570.66</td>\n",
       "      <td>339653.70</td>\n",
       "      <td>436224.36</td>\n",
       "      <td>2014</td>\n",
       "      <td>San Francisco</td>\n",
       "      <td>PT</td>\n",
       "    </tr>\n",
       "    <tr>\n",
       "      <th>3</th>\n",
       "      <td>110535</td>\n",
       "      <td>Gregory P Suhr</td>\n",
       "      <td>Chief of Police</td>\n",
       "      <td>307450.04</td>\n",
       "      <td>0.00</td>\n",
       "      <td>19266.72</td>\n",
       "      <td>91302.46</td>\n",
       "      <td>326716.76</td>\n",
       "      <td>418019.22</td>\n",
       "      <td>2014</td>\n",
       "      <td>San Francisco</td>\n",
       "      <td>FT</td>\n",
       "    </tr>\n",
       "    <tr>\n",
       "      <th>4</th>\n",
       "      <td>110536</td>\n",
       "      <td>Joanne M Hayes-White</td>\n",
       "      <td>Chief, Fire Department</td>\n",
       "      <td>302068.00</td>\n",
       "      <td>0.00</td>\n",
       "      <td>24165.44</td>\n",
       "      <td>91201.66</td>\n",
       "      <td>326233.44</td>\n",
       "      <td>417435.10</td>\n",
       "      <td>2014</td>\n",
       "      <td>San Francisco</td>\n",
       "      <td>FT</td>\n",
       "    </tr>\n",
       "  </tbody>\n",
       "</table>\n",
       "</div>\n",
       "      <button class=\"colab-df-convert\" onclick=\"convertToInteractive('df-1b0914ac-6dea-4fbd-909c-d36600c2670c')\"\n",
       "              title=\"Convert this dataframe to an interactive table.\"\n",
       "              style=\"display:none;\">\n",
       "        \n",
       "  <svg xmlns=\"http://www.w3.org/2000/svg\" height=\"24px\"viewBox=\"0 0 24 24\"\n",
       "       width=\"24px\">\n",
       "    <path d=\"M0 0h24v24H0V0z\" fill=\"none\"/>\n",
       "    <path d=\"M18.56 5.44l.94 2.06.94-2.06 2.06-.94-2.06-.94-.94-2.06-.94 2.06-2.06.94zm-11 1L8.5 8.5l.94-2.06 2.06-.94-2.06-.94L8.5 2.5l-.94 2.06-2.06.94zm10 10l.94 2.06.94-2.06 2.06-.94-2.06-.94-.94-2.06-.94 2.06-2.06.94z\"/><path d=\"M17.41 7.96l-1.37-1.37c-.4-.4-.92-.59-1.43-.59-.52 0-1.04.2-1.43.59L10.3 9.45l-7.72 7.72c-.78.78-.78 2.05 0 2.83L4 21.41c.39.39.9.59 1.41.59.51 0 1.02-.2 1.41-.59l7.78-7.78 2.81-2.81c.8-.78.8-2.07 0-2.86zM5.41 20L4 18.59l7.72-7.72 1.47 1.35L5.41 20z\"/>\n",
       "  </svg>\n",
       "      </button>\n",
       "      \n",
       "  <style>\n",
       "    .colab-df-container {\n",
       "      display:flex;\n",
       "      flex-wrap:wrap;\n",
       "      gap: 12px;\n",
       "    }\n",
       "\n",
       "    .colab-df-convert {\n",
       "      background-color: #E8F0FE;\n",
       "      border: none;\n",
       "      border-radius: 50%;\n",
       "      cursor: pointer;\n",
       "      display: none;\n",
       "      fill: #1967D2;\n",
       "      height: 32px;\n",
       "      padding: 0 0 0 0;\n",
       "      width: 32px;\n",
       "    }\n",
       "\n",
       "    .colab-df-convert:hover {\n",
       "      background-color: #E2EBFA;\n",
       "      box-shadow: 0px 1px 2px rgba(60, 64, 67, 0.3), 0px 1px 3px 1px rgba(60, 64, 67, 0.15);\n",
       "      fill: #174EA6;\n",
       "    }\n",
       "\n",
       "    [theme=dark] .colab-df-convert {\n",
       "      background-color: #3B4455;\n",
       "      fill: #D2E3FC;\n",
       "    }\n",
       "\n",
       "    [theme=dark] .colab-df-convert:hover {\n",
       "      background-color: #434B5C;\n",
       "      box-shadow: 0px 1px 3px 1px rgba(0, 0, 0, 0.15);\n",
       "      filter: drop-shadow(0px 1px 2px rgba(0, 0, 0, 0.3));\n",
       "      fill: #FFFFFF;\n",
       "    }\n",
       "  </style>\n",
       "\n",
       "      <script>\n",
       "        const buttonEl =\n",
       "          document.querySelector('#df-1b0914ac-6dea-4fbd-909c-d36600c2670c button.colab-df-convert');\n",
       "        buttonEl.style.display =\n",
       "          google.colab.kernel.accessAllowed ? 'block' : 'none';\n",
       "\n",
       "        async function convertToInteractive(key) {\n",
       "          const element = document.querySelector('#df-1b0914ac-6dea-4fbd-909c-d36600c2670c');\n",
       "          const dataTable =\n",
       "            await google.colab.kernel.invokeFunction('convertToInteractive',\n",
       "                                                     [key], {});\n",
       "          if (!dataTable) return;\n",
       "\n",
       "          const docLinkHtml = 'Like what you see? Visit the ' +\n",
       "            '<a target=\"_blank\" href=https://colab.research.google.com/notebooks/data_table.ipynb>data table notebook</a>'\n",
       "            + ' to learn more about interactive tables.';\n",
       "          element.innerHTML = '';\n",
       "          dataTable['output_type'] = 'display_data';\n",
       "          await google.colab.output.renderOutput(dataTable, element);\n",
       "          const docLink = document.createElement('div');\n",
       "          docLink.innerHTML = docLinkHtml;\n",
       "          element.appendChild(docLink);\n",
       "        }\n",
       "      </script>\n",
       "    </div>\n",
       "  </div>\n",
       "  "
      ],
      "text/plain": [
       "       Id          EmployeeName                  JobTitle    BasePay  \\\n",
       "0  110532           David Shinn            Deputy Chief 3  129150.01   \n",
       "1  110533            Amy P Hart         Asst Med Examiner  318835.49   \n",
       "2  110534  William J Coaker Jr.  Chief Investment Officer  257340.00   \n",
       "3  110535        Gregory P Suhr           Chief of Police  307450.04   \n",
       "4  110536  Joanne M Hayes-White    Chief, Fire Department  302068.00   \n",
       "\n",
       "   OvertimePay   OtherPay  Benefits   TotalPay  TotalPayBenefits  Year  \\\n",
       "0         0.00  342802.63  38780.04  471952.64         510732.68  2014   \n",
       "1     10712.95   60563.54  89540.23  390111.98         479652.21  2014   \n",
       "2         0.00   82313.70  96570.66  339653.70         436224.36  2014   \n",
       "3         0.00   19266.72  91302.46  326716.76         418019.22  2014   \n",
       "4         0.00   24165.44  91201.66  326233.44         417435.10  2014   \n",
       "\n",
       "          Agency Status  \n",
       "0  San Francisco     PT  \n",
       "1  San Francisco     FT  \n",
       "2  San Francisco     PT  \n",
       "3  San Francisco     FT  \n",
       "4  San Francisco     FT  "
      ]
     },
     "execution_count": 15,
     "metadata": {},
     "output_type": "execute_result"
    }
   ],
   "source": []
  },
  {
   "cell_type": "markdown",
   "metadata": {
    "id": "2DNK_QLozSyF"
   },
   "source": [
    "Check out if \"TotalPayBenefits\" = \"BasePay\" + \"OvertimePay\" + \"OtherPay\" + \"Benefits\""
   ]
  },
  {
   "cell_type": "code",
   "execution_count": 16,
   "metadata": {},
   "outputs": [
    {
     "data": {
      "text/plain": [
       "0         True\n",
       "1        False\n",
       "2         True\n",
       "3        False\n",
       "4         True\n",
       "         ...  \n",
       "38114     True\n",
       "38115     True\n",
       "38116     True\n",
       "38117     True\n",
       "38118     True\n",
       "Length: 38119, dtype: bool"
      ]
     },
     "execution_count": 16,
     "metadata": {},
     "output_type": "execute_result"
    }
   ],
   "source": [
    "# Your code here\n",
    "salary['TotalPayBenefits'] == salary['BasePay'] + salary['OvertimePay'] + salary['OtherPay'] + salary['Benefits']"
   ]
  },
  {
   "cell_type": "code",
   "execution_count": 16,
   "metadata": {
    "colab": {
     "base_uri": "https://localhost:8080/"
    },
    "id": "XuydOtmBzSyF",
    "outputId": "83cd3939-89ec-4e36-dda8-ebb4b8e49013"
   },
   "outputs": [
    {
     "data": {
      "text/plain": [
       "0         True\n",
       "1        False\n",
       "2         True\n",
       "3        False\n",
       "4         True\n",
       "         ...  \n",
       "38114     True\n",
       "38115     True\n",
       "38116     True\n",
       "38117     True\n",
       "38118     True\n",
       "Length: 38119, dtype: bool"
      ]
     },
     "execution_count": 16,
     "metadata": {},
     "output_type": "execute_result"
    }
   ],
   "source": []
  },
  {
   "cell_type": "markdown",
   "metadata": {
    "id": "65AtoiMDzSyF"
   },
   "source": [
    "What is the percetage of employees for which the previous assumption is not True?"
   ]
  },
  {
   "cell_type": "code",
   "execution_count": 17,
   "metadata": {},
   "outputs": [
    {
     "data": {
      "text/plain": [
       "True     73.708649\n",
       "False    26.291351\n",
       "Name: count, dtype: float64"
      ]
     },
     "execution_count": 17,
     "metadata": {},
     "output_type": "execute_result"
    }
   ],
   "source": [
    "# Your code here:\n",
    "(salary['TotalPayBenefits'] == salary['BasePay'] + salary['OvertimePay'] + salary['OtherPay'] + salary['Benefits']).value_counts()/len(salary)*100"
   ]
  },
  {
   "cell_type": "code",
   "execution_count": 17,
   "metadata": {
    "colab": {
     "base_uri": "https://localhost:8080/"
    },
    "id": "WQSlyYKfzSyG",
    "outputId": "db98ca20-db17-4900-c441-896b1d3ae1de"
   },
   "outputs": [
    {
     "data": {
      "text/plain": [
       "True     73.708649\n",
       "False    26.291351\n",
       "dtype: float64"
      ]
     },
     "execution_count": 17,
     "metadata": {},
     "output_type": "execute_result"
    }
   ],
   "source": []
  },
  {
   "cell_type": "markdown",
   "metadata": {
    "id": "hxAKJ0grzSyG"
   },
   "source": [
    "There are different departments in the city. List all departments and the count of employees in each department."
   ]
  },
  {
   "cell_type": "code",
   "execution_count": 18,
   "metadata": {},
   "outputs": [
    {
     "data": {
      "text/html": [
       "<div>\n",
       "<style scoped>\n",
       "    .dataframe tbody tr th:only-of-type {\n",
       "        vertical-align: middle;\n",
       "    }\n",
       "\n",
       "    .dataframe tbody tr th {\n",
       "        vertical-align: top;\n",
       "    }\n",
       "\n",
       "    .dataframe thead th {\n",
       "        text-align: right;\n",
       "    }\n",
       "</style>\n",
       "<table border=\"1\" class=\"dataframe\">\n",
       "  <thead>\n",
       "    <tr style=\"text-align: right;\">\n",
       "      <th></th>\n",
       "      <th>Employees</th>\n",
       "    </tr>\n",
       "    <tr>\n",
       "      <th>JobTitle</th>\n",
       "      <th></th>\n",
       "    </tr>\n",
       "  </thead>\n",
       "  <tbody>\n",
       "    <tr>\n",
       "      <th>ACPO,JuvP, Juv Prob (SFERS)</th>\n",
       "      <td>1</td>\n",
       "    </tr>\n",
       "    <tr>\n",
       "      <th>ASR Senior Office Specialist</th>\n",
       "      <td>22</td>\n",
       "    </tr>\n",
       "    <tr>\n",
       "      <th>ASR-Office Assistant</th>\n",
       "      <td>15</td>\n",
       "    </tr>\n",
       "    <tr>\n",
       "      <th>Account Clerk</th>\n",
       "      <td>93</td>\n",
       "    </tr>\n",
       "    <tr>\n",
       "      <th>Accountant I</th>\n",
       "      <td>2</td>\n",
       "    </tr>\n",
       "    <tr>\n",
       "      <th>...</th>\n",
       "      <td>...</td>\n",
       "    </tr>\n",
       "    <tr>\n",
       "      <th>Wire Rope Cable Maint Sprv</th>\n",
       "      <td>1</td>\n",
       "    </tr>\n",
       "    <tr>\n",
       "      <th>Worker's Comp Supervisor 1</th>\n",
       "      <td>6</td>\n",
       "    </tr>\n",
       "    <tr>\n",
       "      <th>Worker's Compensation Adjuster</th>\n",
       "      <td>26</td>\n",
       "    </tr>\n",
       "    <tr>\n",
       "      <th>X-Ray Laboratory Aide</th>\n",
       "      <td>35</td>\n",
       "    </tr>\n",
       "    <tr>\n",
       "      <th>Youth Comm Advisor</th>\n",
       "      <td>1</td>\n",
       "    </tr>\n",
       "  </tbody>\n",
       "</table>\n",
       "<p>996 rows × 1 columns</p>\n",
       "</div>"
      ],
      "text/plain": [
       "                                Employees\n",
       "JobTitle                                 \n",
       "ACPO,JuvP, Juv Prob (SFERS)             1\n",
       "ASR Senior Office Specialist           22\n",
       "ASR-Office Assistant                   15\n",
       "Account Clerk                          93\n",
       "Accountant I                            2\n",
       "...                                   ...\n",
       "Wire Rope Cable Maint Sprv              1\n",
       "Worker's Comp Supervisor 1              6\n",
       "Worker's Compensation Adjuster         26\n",
       "X-Ray Laboratory Aide                  35\n",
       "Youth Comm Advisor                      1\n",
       "\n",
       "[996 rows x 1 columns]"
      ]
     },
     "execution_count": 18,
     "metadata": {},
     "output_type": "execute_result"
    }
   ],
   "source": [
    "# Your code here:\n",
    "salary.groupby('JobTitle').agg({'Id':'count'}).rename(columns = {'Id':'Employees'})"
   ]
  },
  {
   "cell_type": "code",
   "execution_count": 18,
   "metadata": {
    "colab": {
     "base_uri": "https://localhost:8080/",
     "height": 455
    },
    "id": "rIP5w8uqzSyG",
    "outputId": "792a6c68-1553-489f-b021-6a1f1eb2fc75",
    "scrolled": true
   },
   "outputs": [
    {
     "data": {
      "text/html": [
       "\n",
       "  <div id=\"df-cd6693c4-91a8-4d96-8478-ee35636febaf\">\n",
       "    <div class=\"colab-df-container\">\n",
       "      <div>\n",
       "<style scoped>\n",
       "    .dataframe tbody tr th:only-of-type {\n",
       "        vertical-align: middle;\n",
       "    }\n",
       "\n",
       "    .dataframe tbody tr th {\n",
       "        vertical-align: top;\n",
       "    }\n",
       "\n",
       "    .dataframe thead th {\n",
       "        text-align: right;\n",
       "    }\n",
       "</style>\n",
       "<table border=\"1\" class=\"dataframe\">\n",
       "  <thead>\n",
       "    <tr style=\"text-align: right;\">\n",
       "      <th></th>\n",
       "      <th>Employees</th>\n",
       "    </tr>\n",
       "    <tr>\n",
       "      <th>JobTitle</th>\n",
       "      <th></th>\n",
       "    </tr>\n",
       "  </thead>\n",
       "  <tbody>\n",
       "    <tr>\n",
       "      <th>ACPO,JuvP, Juv Prob (SFERS)</th>\n",
       "      <td>1</td>\n",
       "    </tr>\n",
       "    <tr>\n",
       "      <th>ASR Senior Office Specialist</th>\n",
       "      <td>22</td>\n",
       "    </tr>\n",
       "    <tr>\n",
       "      <th>ASR-Office Assistant</th>\n",
       "      <td>15</td>\n",
       "    </tr>\n",
       "    <tr>\n",
       "      <th>Account Clerk</th>\n",
       "      <td>93</td>\n",
       "    </tr>\n",
       "    <tr>\n",
       "      <th>Accountant I</th>\n",
       "      <td>2</td>\n",
       "    </tr>\n",
       "    <tr>\n",
       "      <th>...</th>\n",
       "      <td>...</td>\n",
       "    </tr>\n",
       "    <tr>\n",
       "      <th>Wire Rope Cable Maint Sprv</th>\n",
       "      <td>1</td>\n",
       "    </tr>\n",
       "    <tr>\n",
       "      <th>Worker's Comp Supervisor 1</th>\n",
       "      <td>6</td>\n",
       "    </tr>\n",
       "    <tr>\n",
       "      <th>Worker's Compensation Adjuster</th>\n",
       "      <td>26</td>\n",
       "    </tr>\n",
       "    <tr>\n",
       "      <th>X-Ray Laboratory Aide</th>\n",
       "      <td>35</td>\n",
       "    </tr>\n",
       "    <tr>\n",
       "      <th>Youth Comm Advisor</th>\n",
       "      <td>1</td>\n",
       "    </tr>\n",
       "  </tbody>\n",
       "</table>\n",
       "<p>996 rows × 1 columns</p>\n",
       "</div>\n",
       "      <button class=\"colab-df-convert\" onclick=\"convertToInteractive('df-cd6693c4-91a8-4d96-8478-ee35636febaf')\"\n",
       "              title=\"Convert this dataframe to an interactive table.\"\n",
       "              style=\"display:none;\">\n",
       "        \n",
       "  <svg xmlns=\"http://www.w3.org/2000/svg\" height=\"24px\"viewBox=\"0 0 24 24\"\n",
       "       width=\"24px\">\n",
       "    <path d=\"M0 0h24v24H0V0z\" fill=\"none\"/>\n",
       "    <path d=\"M18.56 5.44l.94 2.06.94-2.06 2.06-.94-2.06-.94-.94-2.06-.94 2.06-2.06.94zm-11 1L8.5 8.5l.94-2.06 2.06-.94-2.06-.94L8.5 2.5l-.94 2.06-2.06.94zm10 10l.94 2.06.94-2.06 2.06-.94-2.06-.94-.94-2.06-.94 2.06-2.06.94z\"/><path d=\"M17.41 7.96l-1.37-1.37c-.4-.4-.92-.59-1.43-.59-.52 0-1.04.2-1.43.59L10.3 9.45l-7.72 7.72c-.78.78-.78 2.05 0 2.83L4 21.41c.39.39.9.59 1.41.59.51 0 1.02-.2 1.41-.59l7.78-7.78 2.81-2.81c.8-.78.8-2.07 0-2.86zM5.41 20L4 18.59l7.72-7.72 1.47 1.35L5.41 20z\"/>\n",
       "  </svg>\n",
       "      </button>\n",
       "      \n",
       "  <style>\n",
       "    .colab-df-container {\n",
       "      display:flex;\n",
       "      flex-wrap:wrap;\n",
       "      gap: 12px;\n",
       "    }\n",
       "\n",
       "    .colab-df-convert {\n",
       "      background-color: #E8F0FE;\n",
       "      border: none;\n",
       "      border-radius: 50%;\n",
       "      cursor: pointer;\n",
       "      display: none;\n",
       "      fill: #1967D2;\n",
       "      height: 32px;\n",
       "      padding: 0 0 0 0;\n",
       "      width: 32px;\n",
       "    }\n",
       "\n",
       "    .colab-df-convert:hover {\n",
       "      background-color: #E2EBFA;\n",
       "      box-shadow: 0px 1px 2px rgba(60, 64, 67, 0.3), 0px 1px 3px 1px rgba(60, 64, 67, 0.15);\n",
       "      fill: #174EA6;\n",
       "    }\n",
       "\n",
       "    [theme=dark] .colab-df-convert {\n",
       "      background-color: #3B4455;\n",
       "      fill: #D2E3FC;\n",
       "    }\n",
       "\n",
       "    [theme=dark] .colab-df-convert:hover {\n",
       "      background-color: #434B5C;\n",
       "      box-shadow: 0px 1px 3px 1px rgba(0, 0, 0, 0.15);\n",
       "      filter: drop-shadow(0px 1px 2px rgba(0, 0, 0, 0.3));\n",
       "      fill: #FFFFFF;\n",
       "    }\n",
       "  </style>\n",
       "\n",
       "      <script>\n",
       "        const buttonEl =\n",
       "          document.querySelector('#df-cd6693c4-91a8-4d96-8478-ee35636febaf button.colab-df-convert');\n",
       "        buttonEl.style.display =\n",
       "          google.colab.kernel.accessAllowed ? 'block' : 'none';\n",
       "\n",
       "        async function convertToInteractive(key) {\n",
       "          const element = document.querySelector('#df-cd6693c4-91a8-4d96-8478-ee35636febaf');\n",
       "          const dataTable =\n",
       "            await google.colab.kernel.invokeFunction('convertToInteractive',\n",
       "                                                     [key], {});\n",
       "          if (!dataTable) return;\n",
       "\n",
       "          const docLinkHtml = 'Like what you see? Visit the ' +\n",
       "            '<a target=\"_blank\" href=https://colab.research.google.com/notebooks/data_table.ipynb>data table notebook</a>'\n",
       "            + ' to learn more about interactive tables.';\n",
       "          element.innerHTML = '';\n",
       "          dataTable['output_type'] = 'display_data';\n",
       "          await google.colab.output.renderOutput(dataTable, element);\n",
       "          const docLink = document.createElement('div');\n",
       "          docLink.innerHTML = docLinkHtml;\n",
       "          element.appendChild(docLink);\n",
       "        }\n",
       "      </script>\n",
       "    </div>\n",
       "  </div>\n",
       "  "
      ],
      "text/plain": [
       "                                Employees\n",
       "JobTitle                                 \n",
       "ACPO,JuvP, Juv Prob (SFERS)             1\n",
       "ASR Senior Office Specialist           22\n",
       "ASR-Office Assistant                   15\n",
       "Account Clerk                          93\n",
       "Accountant I                            2\n",
       "...                                   ...\n",
       "Wire Rope Cable Maint Sprv              1\n",
       "Worker's Comp Supervisor 1              6\n",
       "Worker's Compensation Adjuster         26\n",
       "X-Ray Laboratory Aide                  35\n",
       "Youth Comm Advisor                      1\n",
       "\n",
       "[996 rows x 1 columns]"
      ]
     },
     "execution_count": 18,
     "metadata": {},
     "output_type": "execute_result"
    }
   ],
   "source": []
  },
  {
   "cell_type": "markdown",
   "metadata": {
    "id": "eBkEuDaLzSyG"
   },
   "source": [
    "# Challenge 2 - Hypothesis Tests\n",
    "\n",
    "In this section of the lab, we will test whether the hourly wage of **all FT workers is significantly different from $75/hr**. Get first the hourly wage by dividing \"TotalPayBenefits\" by 50 weeks (assuming 10 labour days of holidays) and by 40hrs (assuming a 40hrs week).\n",
    "\n",
    "$$Hourly Wage = \\frac{TotalPayBenefits}{1 year}\\frac{1 year}{50 Week}\\frac{1 Week}{40 hr}$$\n",
    "\n",
    "Import the correct one sample test function from scipy and perform the hypothesis test for a 95% two sided confidence interval."
   ]
  },
  {
   "cell_type": "code",
   "execution_count": 19,
   "metadata": {},
   "outputs": [
    {
     "data": {
      "text/html": [
       "<div>\n",
       "<style scoped>\n",
       "    .dataframe tbody tr th:only-of-type {\n",
       "        vertical-align: middle;\n",
       "    }\n",
       "\n",
       "    .dataframe tbody tr th {\n",
       "        vertical-align: top;\n",
       "    }\n",
       "\n",
       "    .dataframe thead th {\n",
       "        text-align: right;\n",
       "    }\n",
       "</style>\n",
       "<table border=\"1\" class=\"dataframe\">\n",
       "  <thead>\n",
       "    <tr style=\"text-align: right;\">\n",
       "      <th></th>\n",
       "      <th>Id</th>\n",
       "      <th>EmployeeName</th>\n",
       "      <th>JobTitle</th>\n",
       "      <th>BasePay</th>\n",
       "      <th>OvertimePay</th>\n",
       "      <th>OtherPay</th>\n",
       "      <th>Benefits</th>\n",
       "      <th>TotalPay</th>\n",
       "      <th>TotalPayBenefits</th>\n",
       "      <th>Year</th>\n",
       "      <th>Agency</th>\n",
       "      <th>Status</th>\n",
       "      <th>Hourly_Wage</th>\n",
       "    </tr>\n",
       "  </thead>\n",
       "  <tbody>\n",
       "    <tr>\n",
       "      <th>0</th>\n",
       "      <td>110532</td>\n",
       "      <td>David Shinn</td>\n",
       "      <td>Deputy Chief 3</td>\n",
       "      <td>129150.01</td>\n",
       "      <td>0.00</td>\n",
       "      <td>342802.63</td>\n",
       "      <td>38780.04</td>\n",
       "      <td>471952.64</td>\n",
       "      <td>510732.68</td>\n",
       "      <td>2014</td>\n",
       "      <td>San Francisco</td>\n",
       "      <td>PT</td>\n",
       "      <td>255.366340</td>\n",
       "    </tr>\n",
       "    <tr>\n",
       "      <th>1</th>\n",
       "      <td>110533</td>\n",
       "      <td>Amy P Hart</td>\n",
       "      <td>Asst Med Examiner</td>\n",
       "      <td>318835.49</td>\n",
       "      <td>10712.95</td>\n",
       "      <td>60563.54</td>\n",
       "      <td>89540.23</td>\n",
       "      <td>390111.98</td>\n",
       "      <td>479652.21</td>\n",
       "      <td>2014</td>\n",
       "      <td>San Francisco</td>\n",
       "      <td>FT</td>\n",
       "      <td>239.826105</td>\n",
       "    </tr>\n",
       "    <tr>\n",
       "      <th>2</th>\n",
       "      <td>110534</td>\n",
       "      <td>William J Coaker Jr.</td>\n",
       "      <td>Chief Investment Officer</td>\n",
       "      <td>257340.00</td>\n",
       "      <td>0.00</td>\n",
       "      <td>82313.70</td>\n",
       "      <td>96570.66</td>\n",
       "      <td>339653.70</td>\n",
       "      <td>436224.36</td>\n",
       "      <td>2014</td>\n",
       "      <td>San Francisco</td>\n",
       "      <td>PT</td>\n",
       "      <td>218.112180</td>\n",
       "    </tr>\n",
       "    <tr>\n",
       "      <th>3</th>\n",
       "      <td>110535</td>\n",
       "      <td>Gregory P Suhr</td>\n",
       "      <td>Chief of Police</td>\n",
       "      <td>307450.04</td>\n",
       "      <td>0.00</td>\n",
       "      <td>19266.72</td>\n",
       "      <td>91302.46</td>\n",
       "      <td>326716.76</td>\n",
       "      <td>418019.22</td>\n",
       "      <td>2014</td>\n",
       "      <td>San Francisco</td>\n",
       "      <td>FT</td>\n",
       "      <td>209.009610</td>\n",
       "    </tr>\n",
       "    <tr>\n",
       "      <th>4</th>\n",
       "      <td>110536</td>\n",
       "      <td>Joanne M Hayes-White</td>\n",
       "      <td>Chief, Fire Department</td>\n",
       "      <td>302068.00</td>\n",
       "      <td>0.00</td>\n",
       "      <td>24165.44</td>\n",
       "      <td>91201.66</td>\n",
       "      <td>326233.44</td>\n",
       "      <td>417435.10</td>\n",
       "      <td>2014</td>\n",
       "      <td>San Francisco</td>\n",
       "      <td>FT</td>\n",
       "      <td>208.717550</td>\n",
       "    </tr>\n",
       "  </tbody>\n",
       "</table>\n",
       "</div>"
      ],
      "text/plain": [
       "       Id          EmployeeName                  JobTitle    BasePay  \\\n",
       "0  110532           David Shinn            Deputy Chief 3  129150.01   \n",
       "1  110533            Amy P Hart         Asst Med Examiner  318835.49   \n",
       "2  110534  William J Coaker Jr.  Chief Investment Officer  257340.00   \n",
       "3  110535        Gregory P Suhr           Chief of Police  307450.04   \n",
       "4  110536  Joanne M Hayes-White    Chief, Fire Department  302068.00   \n",
       "\n",
       "   OvertimePay   OtherPay  Benefits   TotalPay  TotalPayBenefits  Year  \\\n",
       "0         0.00  342802.63  38780.04  471952.64         510732.68  2014   \n",
       "1     10712.95   60563.54  89540.23  390111.98         479652.21  2014   \n",
       "2         0.00   82313.70  96570.66  339653.70         436224.36  2014   \n",
       "3         0.00   19266.72  91302.46  326716.76         418019.22  2014   \n",
       "4         0.00   24165.44  91201.66  326233.44         417435.10  2014   \n",
       "\n",
       "          Agency Status  Hourly_Wage  \n",
       "0  San Francisco     PT   255.366340  \n",
       "1  San Francisco     FT   239.826105  \n",
       "2  San Francisco     PT   218.112180  \n",
       "3  San Francisco     FT   209.009610  \n",
       "4  San Francisco     FT   208.717550  "
      ]
     },
     "execution_count": 19,
     "metadata": {},
     "output_type": "execute_result"
    }
   ],
   "source": [
    "# Your code here: (compute the \"Hourly_Wage\")\n",
    "salary['Hourly_Wage'] = (salary['TotalPayBenefits']/50)/40\n",
    "salary.head()"
   ]
  },
  {
   "cell_type": "code",
   "execution_count": 19,
   "metadata": {
    "colab": {
     "base_uri": "https://localhost:8080/",
     "height": 374
    },
    "id": "ELuWVlkczSyH",
    "outputId": "1acd9c1f-b72c-475a-f1fe-f17450539be3"
   },
   "outputs": [
    {
     "data": {
      "text/html": [
       "\n",
       "  <div id=\"df-4502a61b-7f7a-4b10-8ba4-c595bf5a9e8f\">\n",
       "    <div class=\"colab-df-container\">\n",
       "      <div>\n",
       "<style scoped>\n",
       "    .dataframe tbody tr th:only-of-type {\n",
       "        vertical-align: middle;\n",
       "    }\n",
       "\n",
       "    .dataframe tbody tr th {\n",
       "        vertical-align: top;\n",
       "    }\n",
       "\n",
       "    .dataframe thead th {\n",
       "        text-align: right;\n",
       "    }\n",
       "</style>\n",
       "<table border=\"1\" class=\"dataframe\">\n",
       "  <thead>\n",
       "    <tr style=\"text-align: right;\">\n",
       "      <th></th>\n",
       "      <th>Id</th>\n",
       "      <th>EmployeeName</th>\n",
       "      <th>JobTitle</th>\n",
       "      <th>BasePay</th>\n",
       "      <th>OvertimePay</th>\n",
       "      <th>OtherPay</th>\n",
       "      <th>Benefits</th>\n",
       "      <th>TotalPay</th>\n",
       "      <th>TotalPayBenefits</th>\n",
       "      <th>Year</th>\n",
       "      <th>Agency</th>\n",
       "      <th>Status</th>\n",
       "      <th>Hourly_Wage</th>\n",
       "    </tr>\n",
       "  </thead>\n",
       "  <tbody>\n",
       "    <tr>\n",
       "      <th>0</th>\n",
       "      <td>110532</td>\n",
       "      <td>David Shinn</td>\n",
       "      <td>Deputy Chief 3</td>\n",
       "      <td>129150.01</td>\n",
       "      <td>0.00</td>\n",
       "      <td>342802.63</td>\n",
       "      <td>38780.04</td>\n",
       "      <td>471952.64</td>\n",
       "      <td>510732.68</td>\n",
       "      <td>2014</td>\n",
       "      <td>San Francisco</td>\n",
       "      <td>PT</td>\n",
       "      <td>255.366340</td>\n",
       "    </tr>\n",
       "    <tr>\n",
       "      <th>1</th>\n",
       "      <td>110533</td>\n",
       "      <td>Amy P Hart</td>\n",
       "      <td>Asst Med Examiner</td>\n",
       "      <td>318835.49</td>\n",
       "      <td>10712.95</td>\n",
       "      <td>60563.54</td>\n",
       "      <td>89540.23</td>\n",
       "      <td>390111.98</td>\n",
       "      <td>479652.21</td>\n",
       "      <td>2014</td>\n",
       "      <td>San Francisco</td>\n",
       "      <td>FT</td>\n",
       "      <td>239.826105</td>\n",
       "    </tr>\n",
       "    <tr>\n",
       "      <th>2</th>\n",
       "      <td>110534</td>\n",
       "      <td>William J Coaker Jr.</td>\n",
       "      <td>Chief Investment Officer</td>\n",
       "      <td>257340.00</td>\n",
       "      <td>0.00</td>\n",
       "      <td>82313.70</td>\n",
       "      <td>96570.66</td>\n",
       "      <td>339653.70</td>\n",
       "      <td>436224.36</td>\n",
       "      <td>2014</td>\n",
       "      <td>San Francisco</td>\n",
       "      <td>PT</td>\n",
       "      <td>218.112180</td>\n",
       "    </tr>\n",
       "    <tr>\n",
       "      <th>3</th>\n",
       "      <td>110535</td>\n",
       "      <td>Gregory P Suhr</td>\n",
       "      <td>Chief of Police</td>\n",
       "      <td>307450.04</td>\n",
       "      <td>0.00</td>\n",
       "      <td>19266.72</td>\n",
       "      <td>91302.46</td>\n",
       "      <td>326716.76</td>\n",
       "      <td>418019.22</td>\n",
       "      <td>2014</td>\n",
       "      <td>San Francisco</td>\n",
       "      <td>FT</td>\n",
       "      <td>209.009610</td>\n",
       "    </tr>\n",
       "    <tr>\n",
       "      <th>4</th>\n",
       "      <td>110536</td>\n",
       "      <td>Joanne M Hayes-White</td>\n",
       "      <td>Chief, Fire Department</td>\n",
       "      <td>302068.00</td>\n",
       "      <td>0.00</td>\n",
       "      <td>24165.44</td>\n",
       "      <td>91201.66</td>\n",
       "      <td>326233.44</td>\n",
       "      <td>417435.10</td>\n",
       "      <td>2014</td>\n",
       "      <td>San Francisco</td>\n",
       "      <td>FT</td>\n",
       "      <td>208.717550</td>\n",
       "    </tr>\n",
       "  </tbody>\n",
       "</table>\n",
       "</div>\n",
       "      <button class=\"colab-df-convert\" onclick=\"convertToInteractive('df-4502a61b-7f7a-4b10-8ba4-c595bf5a9e8f')\"\n",
       "              title=\"Convert this dataframe to an interactive table.\"\n",
       "              style=\"display:none;\">\n",
       "        \n",
       "  <svg xmlns=\"http://www.w3.org/2000/svg\" height=\"24px\"viewBox=\"0 0 24 24\"\n",
       "       width=\"24px\">\n",
       "    <path d=\"M0 0h24v24H0V0z\" fill=\"none\"/>\n",
       "    <path d=\"M18.56 5.44l.94 2.06.94-2.06 2.06-.94-2.06-.94-.94-2.06-.94 2.06-2.06.94zm-11 1L8.5 8.5l.94-2.06 2.06-.94-2.06-.94L8.5 2.5l-.94 2.06-2.06.94zm10 10l.94 2.06.94-2.06 2.06-.94-2.06-.94-.94-2.06-.94 2.06-2.06.94z\"/><path d=\"M17.41 7.96l-1.37-1.37c-.4-.4-.92-.59-1.43-.59-.52 0-1.04.2-1.43.59L10.3 9.45l-7.72 7.72c-.78.78-.78 2.05 0 2.83L4 21.41c.39.39.9.59 1.41.59.51 0 1.02-.2 1.41-.59l7.78-7.78 2.81-2.81c.8-.78.8-2.07 0-2.86zM5.41 20L4 18.59l7.72-7.72 1.47 1.35L5.41 20z\"/>\n",
       "  </svg>\n",
       "      </button>\n",
       "      \n",
       "  <style>\n",
       "    .colab-df-container {\n",
       "      display:flex;\n",
       "      flex-wrap:wrap;\n",
       "      gap: 12px;\n",
       "    }\n",
       "\n",
       "    .colab-df-convert {\n",
       "      background-color: #E8F0FE;\n",
       "      border: none;\n",
       "      border-radius: 50%;\n",
       "      cursor: pointer;\n",
       "      display: none;\n",
       "      fill: #1967D2;\n",
       "      height: 32px;\n",
       "      padding: 0 0 0 0;\n",
       "      width: 32px;\n",
       "    }\n",
       "\n",
       "    .colab-df-convert:hover {\n",
       "      background-color: #E2EBFA;\n",
       "      box-shadow: 0px 1px 2px rgba(60, 64, 67, 0.3), 0px 1px 3px 1px rgba(60, 64, 67, 0.15);\n",
       "      fill: #174EA6;\n",
       "    }\n",
       "\n",
       "    [theme=dark] .colab-df-convert {\n",
       "      background-color: #3B4455;\n",
       "      fill: #D2E3FC;\n",
       "    }\n",
       "\n",
       "    [theme=dark] .colab-df-convert:hover {\n",
       "      background-color: #434B5C;\n",
       "      box-shadow: 0px 1px 3px 1px rgba(0, 0, 0, 0.15);\n",
       "      filter: drop-shadow(0px 1px 2px rgba(0, 0, 0, 0.3));\n",
       "      fill: #FFFFFF;\n",
       "    }\n",
       "  </style>\n",
       "\n",
       "      <script>\n",
       "        const buttonEl =\n",
       "          document.querySelector('#df-4502a61b-7f7a-4b10-8ba4-c595bf5a9e8f button.colab-df-convert');\n",
       "        buttonEl.style.display =\n",
       "          google.colab.kernel.accessAllowed ? 'block' : 'none';\n",
       "\n",
       "        async function convertToInteractive(key) {\n",
       "          const element = document.querySelector('#df-4502a61b-7f7a-4b10-8ba4-c595bf5a9e8f');\n",
       "          const dataTable =\n",
       "            await google.colab.kernel.invokeFunction('convertToInteractive',\n",
       "                                                     [key], {});\n",
       "          if (!dataTable) return;\n",
       "\n",
       "          const docLinkHtml = 'Like what you see? Visit the ' +\n",
       "            '<a target=\"_blank\" href=https://colab.research.google.com/notebooks/data_table.ipynb>data table notebook</a>'\n",
       "            + ' to learn more about interactive tables.';\n",
       "          element.innerHTML = '';\n",
       "          dataTable['output_type'] = 'display_data';\n",
       "          await google.colab.output.renderOutput(dataTable, element);\n",
       "          const docLink = document.createElement('div');\n",
       "          docLink.innerHTML = docLinkHtml;\n",
       "          element.appendChild(docLink);\n",
       "        }\n",
       "      </script>\n",
       "    </div>\n",
       "  </div>\n",
       "  "
      ],
      "text/plain": [
       "       Id          EmployeeName                  JobTitle    BasePay  \\\n",
       "0  110532           David Shinn            Deputy Chief 3  129150.01   \n",
       "1  110533            Amy P Hart         Asst Med Examiner  318835.49   \n",
       "2  110534  William J Coaker Jr.  Chief Investment Officer  257340.00   \n",
       "3  110535        Gregory P Suhr           Chief of Police  307450.04   \n",
       "4  110536  Joanne M Hayes-White    Chief, Fire Department  302068.00   \n",
       "\n",
       "   OvertimePay   OtherPay  Benefits   TotalPay  TotalPayBenefits  Year  \\\n",
       "0         0.00  342802.63  38780.04  471952.64         510732.68  2014   \n",
       "1     10712.95   60563.54  89540.23  390111.98         479652.21  2014   \n",
       "2         0.00   82313.70  96570.66  339653.70         436224.36  2014   \n",
       "3         0.00   19266.72  91302.46  326716.76         418019.22  2014   \n",
       "4         0.00   24165.44  91201.66  326233.44         417435.10  2014   \n",
       "\n",
       "          Agency Status  Hourly_Wage  \n",
       "0  San Francisco     PT   255.366340  \n",
       "1  San Francisco     FT   239.826105  \n",
       "2  San Francisco     PT   218.112180  \n",
       "3  San Francisco     FT   209.009610  \n",
       "4  San Francisco     FT   208.717550  "
      ]
     },
     "execution_count": 19,
     "metadata": {},
     "output_type": "execute_result"
    }
   ],
   "source": []
  },
  {
   "cell_type": "code",
   "execution_count": 21,
   "metadata": {},
   "outputs": [
    {
     "data": {
      "text/plain": [
       "69.26420640727143"
      ]
     },
     "metadata": {},
     "output_type": "display_data"
    },
    {
     "data": {
      "text/plain": [
       "22334"
      ]
     },
     "execution_count": 21,
     "metadata": {},
     "output_type": "execute_result"
    }
   ],
   "source": [
    "# Your code here: (Compute the mean hourly wage for all the \"FT\" employees)\n",
    "mean_hw_ft = salary[salary['Status'] == 'FT']['Hourly_Wage'].mean()\n",
    "display(mean_hw_ft)\n",
    "len(salary[salary['Status'] == 'FT'])"
   ]
  },
  {
   "cell_type": "code",
   "execution_count": 20,
   "metadata": {
    "colab": {
     "base_uri": "https://localhost:8080/"
    },
    "id": "HZLcwczBzSyH",
    "outputId": "4f607da2-4d79-48cf-d176-f85c64df2848"
   },
   "outputs": [
    {
     "data": {
      "text/plain": [
       "69.264206407271"
      ]
     },
     "execution_count": 20,
     "metadata": {},
     "output_type": "execute_result"
    }
   ],
   "source": []
  },
  {
   "cell_type": "code",
   "execution_count": 28,
   "metadata": {},
   "outputs": [
    {
     "data": {
      "text/plain": [
       "-35.80631941460521"
      ]
     },
     "execution_count": 28,
     "metadata": {},
     "output_type": "execute_result"
    }
   ],
   "source": [
    "# Your code here: (compute the t_statistic). Take into account that this dataset is a sample of a real population.\n",
    "# Remember that you only need to consider \"FT\" employees\n",
    "\n",
    "#import scipy.stats as st\n",
    "from scipy.stats import ttest_1samp\n",
    "\n",
    "# manual calculation\n",
    "t_statistic = (np.mean(salary[salary['Status']=='FT']['Hourly_Wage']) - 75)/(np.std(salary[salary['Status']=='FT']['Hourly_Wage'], ddof = 1)/np.sqrt(len(salary[salary['Status']=='FT']['Hourly_Wage'])))\n",
    "t_statistic\n",
    "\n"
   ]
  },
  {
   "cell_type": "code",
   "execution_count": 21,
   "metadata": {
    "colab": {
     "base_uri": "https://localhost:8080/"
    },
    "id": "zTcooP57zSyH",
    "outputId": "55834a56-23e4-40f0-8e83-56a40e8eb268"
   },
   "outputs": [
    {
     "data": {
      "text/plain": [
       "-35.80631941460788"
      ]
     },
     "execution_count": 21,
     "metadata": {},
     "output_type": "execute_result"
    }
   ],
   "source": []
  },
  {
   "cell_type": "code",
   "execution_count": 29,
   "metadata": {},
   "outputs": [
    {
     "name": "stdout",
     "output_type": "stream",
     "text": [
      "lower_ct: -1.9600702128845597\n",
      "upper_ct: 1.9600702128845593\n"
     ]
    }
   ],
   "source": [
    "# Method 1: Critical value. Get the critical value and compare it against your statisttic.\n",
    "# Your code here: \n",
    "lower_ct = st.t.ppf((0.05/2),df= len(salary[salary['Status']=='FT']['Hourly_Wage'])-1)\n",
    "upper_ct = st.t.ppf((1-(0.05/2)),df= len(salary[salary['Status']=='FT']['Hourly_Wage'])-1)\n",
    "print('lower_ct:', lower_ct)\n",
    "print('upper_ct:', upper_ct)"
   ]
  },
  {
   "cell_type": "code",
   "execution_count": null,
   "metadata": {
    "colab": {
     "base_uri": "https://localhost:8080/"
    },
    "id": "uel9UMe2zSyH",
    "outputId": "34d5376a-3e12-49c4-a8e8-85210c27e96a",
    "scrolled": true
   },
   "outputs": [],
   "source": []
  },
  {
   "cell_type": "code",
   "execution_count": 30,
   "metadata": {},
   "outputs": [
    {
     "name": "stdout",
     "output_type": "stream",
     "text": [
      "2.2589156169228082e-273\n"
     ]
    },
    {
     "data": {
      "text/plain": [
       "True"
      ]
     },
     "execution_count": 30,
     "metadata": {},
     "output_type": "execute_result"
    }
   ],
   "source": [
    "# Method 2: Use the p-value method.\n",
    "# Your code here:\n",
    "p = st.t.cdf(t_statistic,df= len(salary[salary['Status']=='FT']['Hourly_Wage'])-1 )\n",
    "print(p)\n",
    "p*2<0.025"
   ]
  },
  {
   "cell_type": "code",
   "execution_count": 31,
   "metadata": {},
   "outputs": [
    {
     "data": {
      "text/plain": [
       "4.5178312338456165e-273"
      ]
     },
     "execution_count": 31,
     "metadata": {},
     "output_type": "execute_result"
    }
   ],
   "source": [
    "p*2"
   ]
  },
  {
   "cell_type": "code",
   "execution_count": null,
   "metadata": {
    "colab": {
     "base_uri": "https://localhost:8080/"
    },
    "id": "R4yteKjgzSyH",
    "outputId": "e78f6ef3-42c0-40f3-a24a-21f0d30ca56c"
   },
   "outputs": [],
   "source": []
  },
  {
   "cell_type": "code",
   "execution_count": 32,
   "metadata": {},
   "outputs": [
    {
     "name": "stdout",
     "output_type": "stream",
     "text": [
      "-35.80631941460521\n",
      "-35.80631941460526 4.517831233839447e-273\n"
     ]
    }
   ],
   "source": [
    "# Method 3: Use the ttest_1samp function from scipy. \n",
    "# Check the documentation [here](https://docs.scipy.org/doc/scipy/reference/generated/scipy.stats.ttest_1samp.html)\n",
    "# Make sure that you have a scipy version >=1.6.0. If that's not your case please ugrade your scipy version using\n",
    "# !pip install -U scipy\n",
    "# Your code here:\n",
    "# use ttest_1samp\n",
    "stat, pval = ttest_1samp(salary[salary['Status'] == 'FT']['Hourly_Wage'], 75,alternative = 'two-sided')\n",
    "print(t_statistic)\n",
    "print( stat, pval)"
   ]
  },
  {
   "cell_type": "code",
   "execution_count": null,
   "metadata": {
    "colab": {
     "base_uri": "https://localhost:8080/"
    },
    "id": "iIMw0PUqzSyI",
    "outputId": "6fbe4e5d-c9d8-473b-a64c-6c533bec9924"
   },
   "outputs": [],
   "source": []
  },
  {
   "cell_type": "markdown",
   "metadata": {
    "id": "YvxOReoszSyI"
   },
   "source": [
    "Are all the methods in agreement?"
   ]
  },
  {
   "cell_type": "markdown",
   "metadata": {},
   "source": [
    "### Answer: yes, they are all in agreement.\n",
    "As t_statistic < tcritical (-35.8 < - 1.96), we reject the H0: which is the hourly_wage is not significantly different than 75dollar/hr"
   ]
  },
  {
   "cell_type": "markdown",
   "metadata": {
    "id": "6W3OpLYuzSyI"
   },
   "source": [
    "We are also curious about salaries in the police force. The chief of police in San Francisco claimed in a press briefing that salaries this year are **higher than last year's mean of $86000/year for all salaried employees** (use the column \"TotalPayBenefits\". Test  hypothesis using a 95% confidence interval.\n",
    "\n",
    "Hint: Use apply and a lambda function to check in \"Police\" is in the \"JobTitle\" to get all the \"Police\" jobs."
   ]
  },
  {
   "cell_type": "code",
   "execution_count": 136,
   "metadata": {},
   "outputs": [
    {
     "data": {
      "text/plain": [
       "50.252984742109966"
      ]
     },
     "execution_count": 136,
     "metadata": {},
     "output_type": "execute_result"
    }
   ],
   "source": [
    "# Your code here: (compute the t_statistic). Take into account that this dataset is a sample of a real population.\n",
    "# Remember that you only need to consider \"Police\" employees\n",
    "salary_police = salary[salary['JobTitle'].apply(lambda x: 'y' if 'Police' in x else 'n')== 'y']\n",
    "\n",
    "# The claim is that salaries this year are higher than last year's mean of $86000/year for all salaried employees\n",
    "# null hypothesis H0: salary mean of police force less than 86000/year, confidence 95% -> significant a = 0.05, one-tailed t-test (left)\n",
    "t = (np.mean(salary_police['TotalPayBenefits']) - 86000)/(np.std(salary_police['TotalPayBenefits'], ddof = 1)/np.sqrt(len(salary_police['TotalPayBenefits'])))\n",
    "t"
   ]
  },
  {
   "cell_type": "code",
   "execution_count": 27,
   "metadata": {
    "colab": {
     "base_uri": "https://localhost:8080/"
    },
    "id": "SZJ_pHiUzSyI",
    "outputId": "1b3fe9d9-2589-4afa-d7b0-4d09251a3ba3"
   },
   "outputs": [
    {
     "data": {
      "text/plain": [
       "50.252984742109916"
      ]
     },
     "execution_count": 27,
     "metadata": {},
     "output_type": "execute_result"
    }
   ],
   "source": []
  },
  {
   "cell_type": "code",
   "execution_count": 137,
   "metadata": {},
   "outputs": [
    {
     "data": {
      "text/plain": [
       "-1.6456555819760406"
      ]
     },
     "execution_count": 137,
     "metadata": {},
     "output_type": "execute_result"
    }
   ],
   "source": [
    "# Method 1: Critical value. Get the critical value and compare it against your statisttic.\n",
    "# Your code here: \n",
    "tc = st.t.ppf(0.05, (len(salary_police['TotalPayBenefits']-1)))\n",
    "tc\n",
    "# -> tc = -1.65 < t = 50.25: We accept the H0 \n",
    "\n"
   ]
  },
  {
   "cell_type": "code",
   "execution_count": 138,
   "metadata": {
    "colab": {
     "base_uri": "https://localhost:8080/"
    },
    "id": "MQec5gU6zSyJ",
    "outputId": "bc66c72a-9154-4a15-ca3a-6f59e30e1b1c"
   },
   "outputs": [
    {
     "data": {
      "text/plain": [
       "0.05000000000000005"
      ]
     },
     "execution_count": 138,
     "metadata": {},
     "output_type": "execute_result"
    }
   ],
   "source": [
    "st.t.cdf(-1.6456560042647304, (len(salary_police['TotalPayBenefits'])-1))"
   ]
  },
  {
   "cell_type": "code",
   "execution_count": 139,
   "metadata": {},
   "outputs": [
    {
     "data": {
      "text/plain": [
       "1.0"
      ]
     },
     "execution_count": 139,
     "metadata": {},
     "output_type": "execute_result"
    }
   ],
   "source": [
    "# Method 2: Use the p-value method.\n",
    "# Your code here:\n",
    "p_val = st.t.cdf(t, (len(salary_police['TotalPayBenefits'])-1))\n",
    "p_val\n",
    "\n",
    "# p_val = 1.0 > a = 0.05 : we accept the H0 -> meaning: salary mean of police force less than 86000/year this year, with a confidence level of 95%, at significant alpha 0.05"
   ]
  },
  {
   "cell_type": "code",
   "execution_count": 141,
   "metadata": {},
   "outputs": [
    {
     "data": {
      "text/plain": [
       "TtestResult(statistic=50.252984742109945, pvalue=1.0, df=1900)"
      ]
     },
     "execution_count": 141,
     "metadata": {},
     "output_type": "execute_result"
    }
   ],
   "source": [
    "# Method 3: Use the ttest_1samp function from scipy. \n",
    "# Check the documentation [here](https://docs.scipy.org/doc/scipy/reference/generated/scipy.stats.ttest_1samp.html)\n",
    "# Make sure that you have a scipy version >=1.6.0. If that's not your case please ugrade your scipy version using\n",
    "# !pip install -U scipy\n",
    "# Your code here:\n",
    "from scipy.stats import ttest_1samp\n",
    "ttest_1samp(salary_police['TotalPayBenefits'], 86000, alternative = 'less')\n",
    "\n"
   ]
  },
  {
   "cell_type": "code",
   "execution_count": 30,
   "metadata": {
    "colab": {
     "base_uri": "https://localhost:8080/"
    },
    "id": "INGCUoXHzSyJ",
    "outputId": "0add2f05-e1c9-4a2c-c91d-731183b8463e"
   },
   "outputs": [
    {
     "data": {
      "text/plain": [
       "Ttest_1sampResult(statistic=50.252984742109945, pvalue=1.0)"
      ]
     },
     "execution_count": 30,
     "metadata": {},
     "output_type": "execute_result"
    }
   ],
   "source": []
  },
  {
   "cell_type": "markdown",
   "metadata": {
    "id": "wPCpi313zSyJ"
   },
   "source": [
    "The workers from the \"JobTitle\" with the most employees have complained that their hourly wage is **less than $35/hour**. Using a one sample t-test, test this one-sided hypothesis at the 95% confidence level."
   ]
  },
  {
   "cell_type": "code",
   "execution_count": 87,
   "metadata": {},
   "outputs": [
    {
     "data": {
      "text/plain": [
       "'Transit Operator'"
      ]
     },
     "execution_count": 87,
     "metadata": {},
     "output_type": "execute_result"
    }
   ],
   "source": [
    "# Your code here: (Get the department which has most employees)\n",
    "dep = salary.groupby('JobTitle').agg({'Id':'count'}).rename(columns = {'Id':'Employees'}).idxmax()['Employees']"
   ]
  },
  {
   "cell_type": "code",
   "execution_count": 31,
   "metadata": {
    "colab": {
     "base_uri": "https://localhost:8080/",
     "height": 35
    },
    "id": "m6X0DN4czSyJ",
    "outputId": "ed950bc6-1be7-4df6-be61-977bfb95d375"
   },
   "outputs": [
    {
     "data": {
      "application/vnd.google.colaboratory.intrinsic+json": {
       "type": "string"
      },
      "text/plain": [
       "'Transit Operator'"
      ]
     },
     "execution_count": 31,
     "metadata": {},
     "output_type": "execute_result"
    }
   ],
   "source": []
  },
  {
   "cell_type": "code",
   "execution_count": 89,
   "metadata": {},
   "outputs": [
    {
     "data": {
      "text/plain": [
       "19.06499032490636"
      ]
     },
     "execution_count": 89,
     "metadata": {},
     "output_type": "execute_result"
    }
   ],
   "source": [
    "# Your code here: (compute the t_statistic). Take into account that this dataset is a sample of a real population.\n",
    "# Remember that you only need to consider the right \"JobTitle\" employees\n",
    "# H0: hourly wage of employees from 'Transit Operator' department is more than 35 dollars/hour, confidence level 95%, alpha 0.05\n",
    "t = (np.mean(salary[salary['JobTitle']==dep]['Hourly_Wage'])-35) / (np.std(salary[salary['JobTitle']==dep]['Hourly_Wage'])/np.sqrt(len(salary[salary['JobTitle']==dep]['Hourly_Wage'])-1))\n",
    "t\n"
   ]
  },
  {
   "cell_type": "code",
   "execution_count": 32,
   "metadata": {
    "colab": {
     "base_uri": "https://localhost:8080/"
    },
    "id": "ifyDMFLXzSyJ",
    "outputId": "f350c751-9253-4140-a377-36c8112afc74"
   },
   "outputs": [
    {
     "data": {
      "text/plain": [
       "19.06499032490655"
      ]
     },
     "execution_count": 32,
     "metadata": {},
     "output_type": "execute_result"
    }
   ],
   "source": []
  },
  {
   "cell_type": "code",
   "execution_count": 90,
   "metadata": {},
   "outputs": [
    {
     "data": {
      "text/plain": [
       "1.645468777247024"
      ]
     },
     "execution_count": 90,
     "metadata": {},
     "output_type": "execute_result"
    }
   ],
   "source": [
    "# Method 1: Critical value. Get the critical value and compare it against your statisttic.\n",
    "# Your code here: \n",
    "tc = st.t.ppf((1-0.05), (len(salary[salary['JobTitle']==dep]['Hourly_Wage'])-1))\n",
    "tc\n",
    "\n",
    "# t = 19.06 > tc = 1.65: We reject H0"
   ]
  },
  {
   "cell_type": "code",
   "execution_count": null,
   "metadata": {
    "colab": {
     "base_uri": "https://localhost:8080/"
    },
    "id": "BCl3E2ItzSyK",
    "outputId": "f7677a30-0bf3-4c92-83f1-6a2e00f5176b"
   },
   "outputs": [],
   "source": []
  },
  {
   "cell_type": "code",
   "execution_count": 92,
   "metadata": {},
   "outputs": [
    {
     "data": {
      "text/plain": [
       "0.0"
      ]
     },
     "execution_count": 92,
     "metadata": {},
     "output_type": "execute_result"
    }
   ],
   "source": [
    "# Method 2: Use the p-value method.\n",
    "# Your code here:\n",
    "p_value = 1 - st.t.cdf(t, (len(salary[salary['JobTitle']==dep]['Hourly_Wage'])-1))\n",
    "\n",
    "# p_value =0.0 < a = 0.05 : We reject H0"
   ]
  },
  {
   "cell_type": "code",
   "execution_count": 98,
   "metadata": {
    "colab": {
     "base_uri": "https://localhost:8080/"
    },
    "id": "EmIpVMd0zSyK",
    "outputId": "00cb8466-e885-4acb-9015-6d54b61b1c7d"
   },
   "outputs": [
    {
     "data": {
      "text/plain": [
       "TtestResult(statistic=19.064990324906383, pvalue=5.012771694204206e-76, df=2478)"
      ]
     },
     "execution_count": 98,
     "metadata": {},
     "output_type": "execute_result"
    }
   ],
   "source": [
    "# Method 3: Use the ttest_1samp function from scipy. \n",
    "# Check the documentation [here](https://docs.scipy.org/doc/scipy/reference/generated/scipy.stats.ttest_1samp.html)\n",
    "# Make sure that you have a scipy version >=1.6.0. If that's not your case please ugrade your scipy version using\n",
    "# !pip install -U scipy\n",
    "# Your code here:\n",
    "\n",
    "from scipy.stats import ttest_1samp\n",
    "ttest_1samp(salary[salary['JobTitle']==dep]['Hourly_Wage'], 35, alternative = 'greater')"
   ]
  },
  {
   "cell_type": "code",
   "execution_count": 35,
   "metadata": {
    "colab": {
     "base_uri": "https://localhost:8080/"
    },
    "id": "lxmOkkIIzSyK",
    "outputId": "989799b7-3304-4954-e268-9b190515eb4b"
   },
   "outputs": [
    {
     "data": {
      "text/plain": [
       "Ttest_1sampResult(statistic=19.064990324906383, pvalue=5.012771694204206e-76)"
      ]
     },
     "execution_count": 35,
     "metadata": {},
     "output_type": "execute_result"
    }
   ],
   "source": []
  },
  {
   "cell_type": "code",
   "execution_count": null,
   "metadata": {},
   "outputs": [],
   "source": []
  },
  {
   "cell_type": "markdown",
   "metadata": {
    "id": "ZNtFKSmuzSyK"
   },
   "source": [
    "# Challenge 3: To practice - Constructing Confidence Intervals\n",
    "\n",
    "While testing our hypothesis is a great way to gather empirical evidence for accepting or rejecting the hypothesis, another way to gather evidence is by creating a confidence interval. A confidence interval gives us information about the true mean of the population. So for a 95% confidence interval, we are 95% sure that the mean of the population is within the confidence interval. \n",
    ").\n",
    "\n",
    "To read more about confidence intervals, click [here](https://en.wikipedia.org/wiki/Confidence_interval).\n",
    "\n",
    "\n",
    "In the cell below, we will construct a 95% confidence interval for the mean hourly wage of all hourly workers. \n",
    "\n",
    "To compute the confidence interval of the hourly wage, use the 0.95 for the confidence level."
   ]
  },
  {
   "cell_type": "code",
   "execution_count": 110,
   "metadata": {},
   "outputs": [
    {
     "data": {
      "text/plain": [
       "'Hourly wage mean: 50.13'"
      ]
     },
     "metadata": {},
     "output_type": "display_data"
    },
    {
     "data": {
      "text/plain": [
       "'Confidence_interval: [49.80,50.46]'"
      ]
     },
     "metadata": {},
     "output_type": "display_data"
    }
   ],
   "source": [
    "# Method 1: Get the critical values which correspond to a 95% confidence.\n",
    "# Your code here:\n",
    "confidence_level = 0.95\n",
    "degrees_freedom = len(salary)-1\n",
    "hourly_wage_mean = np.mean(salary['Hourly_Wage'])\n",
    "hourly_wage_sem = st.sem(salary['Hourly_Wage'])\n",
    "\n",
    "confidence_interval = st.t.interval(confidence_level,\n",
    "                                             degrees_freedom,\n",
    "                                             hourly_wage_mean,\n",
    "                                             hourly_wage_sem)\n",
    "display('Hourly wage mean: {:.2f}'.format(hourly_wage_mean))\n",
    "display('Confidence_interval: [{:.2f},{:.2f}]'.format(confidence_interval[0],confidence_interval[1]))"
   ]
  },
  {
   "cell_type": "code",
   "execution_count": 36,
   "metadata": {
    "colab": {
     "base_uri": "https://localhost:8080/"
    },
    "id": "y78OZcg7zSyL",
    "outputId": "9e07b943-737e-4458-d47c-f093a174da98"
   },
   "outputs": [
    {
     "name": "stdout",
     "output_type": "stream",
     "text": [
      "Sample mean: 50.13\n",
      "Confidence interval: [49.80,50.46]\n"
     ]
    }
   ],
   "source": []
  },
  {
   "cell_type": "markdown",
   "metadata": {
    "id": "K3FbLwVjzSyL"
   },
   "source": [
    "Now compute a 95% confidence interval for the hourly salary of all the Police employees."
   ]
  },
  {
   "cell_type": "code",
   "execution_count": 111,
   "metadata": {},
   "outputs": [
    {
     "data": {
      "text/plain": [
       "'Hourly wage mean: 74.17'"
      ]
     },
     "metadata": {},
     "output_type": "display_data"
    },
    {
     "data": {
      "text/plain": [
       "'Confidence_interval: [72.96,75.39]'"
      ]
     },
     "metadata": {},
     "output_type": "display_data"
    }
   ],
   "source": [
    "# Your code here:\n",
    "confidence_level = 0.95\n",
    "degrees_freedom = len(salary[salary['Police']=='y'])-1\n",
    "police_hourly_wage_mean = np.mean(salary[salary['Police']=='y']['Hourly_Wage'])\n",
    "police_hourly_wage_sem = st.sem(salary[salary['Police']=='y']['Hourly_Wage'])\n",
    "\n",
    "confidence_interval = st.t.interval(confidence_level,\n",
    "                                             degrees_freedom,\n",
    "                                             police_hourly_wage_mean,\n",
    "                                             police_hourly_wage_sem)\n",
    "display('Hourly wage mean: {:.2f}'.format(police_hourly_wage_mean))\n",
    "display('Confidence_interval: [{:.2f},{:.2f}]'.format(confidence_interval[0],confidence_interval[1]))"
   ]
  },
  {
   "cell_type": "code",
   "execution_count": 37,
   "metadata": {
    "colab": {
     "base_uri": "https://localhost:8080/"
    },
    "id": "kJHkhMr6zSyL",
    "outputId": "9e39906c-f69b-462d-ebd4-af1dfcac014b"
   },
   "outputs": [
    {
     "name": "stdout",
     "output_type": "stream",
     "text": [
      "Sample mean: 74.17\n",
      "Confidence interval: [72.96,75.39]\n"
     ]
    }
   ],
   "source": []
  },
  {
   "cell_type": "markdown",
   "metadata": {
    "id": "weFO_tpszSyL"
   },
   "source": [
    "# Chi2 test"
   ]
  },
  {
   "cell_type": "markdown",
   "metadata": {
    "id": "HfCTSUjSzSyL"
   },
   "source": [
    "Now we want to know if the amount of full time \"FT\" and part time \"PT\" employees is equal between Lawers, Meds, Police, Firemen and other departments. \n",
    "\n",
    "Considering all the options in this groups of employees will be very time consuming. To simplify this process, create first a function that returns:\n",
    "\n",
    "* \"Policemen\" if \"Police\" is found on \"JobTitle\"\n",
    "* \"Firemen\" if \"Fire\" is found on \"JobTitle\"\n",
    "* \"Medical\" if \"Med\" or \"Nurse\" is found on \"JobTitle\"\n",
    "* \"Lawyer\" if \"Attorney\" is found on \"JobTitle\"\n",
    "* \"Other\" in any other cases\n",
    "\n",
    "Then, create a new column named \"employee_group\" that determines to which group belong the employee. "
   ]
  },
  {
   "cell_type": "code",
   "execution_count": 123,
   "metadata": {
    "id": "ZojYuxvazSyM"
   },
   "outputs": [],
   "source": [
    "# Your code here: (Create the function)\n",
    "def group_JobTitle (df):\n",
    "    df2 = df.copy()\n",
    "    if 'JobTitle' in df2.columns:\n",
    "        df2['employee_group'] = df2['JobTitle'].apply(lambda x: 'Policemen' if 'Police' in x \\\n",
    "                                                      else ('Firemen' if 'Fire' in x \\\n",
    "                                                            else ('Medical' if 'Med'in x or 'Nurse' in x \\\n",
    "                                                                  else ('Lawyer' if 'Attorney' in x \\\n",
    "                                                                    else 'Other'))))\n",
    "    else:\n",
    "        print('There is no JobTitle column to group')\n",
    "    return df2\n"
   ]
  },
  {
   "cell_type": "code",
   "execution_count": 125,
   "metadata": {},
   "outputs": [
    {
     "data": {
      "text/html": [
       "<div>\n",
       "<style scoped>\n",
       "    .dataframe tbody tr th:only-of-type {\n",
       "        vertical-align: middle;\n",
       "    }\n",
       "\n",
       "    .dataframe tbody tr th {\n",
       "        vertical-align: top;\n",
       "    }\n",
       "\n",
       "    .dataframe thead th {\n",
       "        text-align: right;\n",
       "    }\n",
       "</style>\n",
       "<table border=\"1\" class=\"dataframe\">\n",
       "  <thead>\n",
       "    <tr style=\"text-align: right;\">\n",
       "      <th></th>\n",
       "      <th>Id</th>\n",
       "      <th>EmployeeName</th>\n",
       "      <th>JobTitle</th>\n",
       "      <th>BasePay</th>\n",
       "      <th>OvertimePay</th>\n",
       "      <th>OtherPay</th>\n",
       "      <th>Benefits</th>\n",
       "      <th>TotalPay</th>\n",
       "      <th>TotalPayBenefits</th>\n",
       "      <th>Year</th>\n",
       "      <th>Agency</th>\n",
       "      <th>Status</th>\n",
       "      <th>Hourly_Wage</th>\n",
       "      <th>Police</th>\n",
       "      <th>employee_group</th>\n",
       "    </tr>\n",
       "  </thead>\n",
       "  <tbody>\n",
       "    <tr>\n",
       "      <th>0</th>\n",
       "      <td>110532</td>\n",
       "      <td>David Shinn</td>\n",
       "      <td>Deputy Chief 3</td>\n",
       "      <td>129150.01</td>\n",
       "      <td>0.00</td>\n",
       "      <td>342802.63</td>\n",
       "      <td>38780.04</td>\n",
       "      <td>471952.64</td>\n",
       "      <td>510732.68</td>\n",
       "      <td>2014</td>\n",
       "      <td>San Francisco</td>\n",
       "      <td>PT</td>\n",
       "      <td>255.366340</td>\n",
       "      <td>n</td>\n",
       "      <td>Other</td>\n",
       "    </tr>\n",
       "    <tr>\n",
       "      <th>1</th>\n",
       "      <td>110533</td>\n",
       "      <td>Amy P Hart</td>\n",
       "      <td>Asst Med Examiner</td>\n",
       "      <td>318835.49</td>\n",
       "      <td>10712.95</td>\n",
       "      <td>60563.54</td>\n",
       "      <td>89540.23</td>\n",
       "      <td>390111.98</td>\n",
       "      <td>479652.21</td>\n",
       "      <td>2014</td>\n",
       "      <td>San Francisco</td>\n",
       "      <td>FT</td>\n",
       "      <td>239.826105</td>\n",
       "      <td>n</td>\n",
       "      <td>Medical</td>\n",
       "    </tr>\n",
       "    <tr>\n",
       "      <th>2</th>\n",
       "      <td>110534</td>\n",
       "      <td>William J Coaker Jr.</td>\n",
       "      <td>Chief Investment Officer</td>\n",
       "      <td>257340.00</td>\n",
       "      <td>0.00</td>\n",
       "      <td>82313.70</td>\n",
       "      <td>96570.66</td>\n",
       "      <td>339653.70</td>\n",
       "      <td>436224.36</td>\n",
       "      <td>2014</td>\n",
       "      <td>San Francisco</td>\n",
       "      <td>PT</td>\n",
       "      <td>218.112180</td>\n",
       "      <td>n</td>\n",
       "      <td>Other</td>\n",
       "    </tr>\n",
       "    <tr>\n",
       "      <th>3</th>\n",
       "      <td>110535</td>\n",
       "      <td>Gregory P Suhr</td>\n",
       "      <td>Chief of Police</td>\n",
       "      <td>307450.04</td>\n",
       "      <td>0.00</td>\n",
       "      <td>19266.72</td>\n",
       "      <td>91302.46</td>\n",
       "      <td>326716.76</td>\n",
       "      <td>418019.22</td>\n",
       "      <td>2014</td>\n",
       "      <td>San Francisco</td>\n",
       "      <td>FT</td>\n",
       "      <td>209.009610</td>\n",
       "      <td>y</td>\n",
       "      <td>Policemen</td>\n",
       "    </tr>\n",
       "    <tr>\n",
       "      <th>4</th>\n",
       "      <td>110536</td>\n",
       "      <td>Joanne M Hayes-White</td>\n",
       "      <td>Chief, Fire Department</td>\n",
       "      <td>302068.00</td>\n",
       "      <td>0.00</td>\n",
       "      <td>24165.44</td>\n",
       "      <td>91201.66</td>\n",
       "      <td>326233.44</td>\n",
       "      <td>417435.10</td>\n",
       "      <td>2014</td>\n",
       "      <td>San Francisco</td>\n",
       "      <td>FT</td>\n",
       "      <td>208.717550</td>\n",
       "      <td>n</td>\n",
       "      <td>Firemen</td>\n",
       "    </tr>\n",
       "  </tbody>\n",
       "</table>\n",
       "</div>"
      ],
      "text/plain": [
       "       Id          EmployeeName                  JobTitle    BasePay  \\\n",
       "0  110532           David Shinn            Deputy Chief 3  129150.01   \n",
       "1  110533            Amy P Hart         Asst Med Examiner  318835.49   \n",
       "2  110534  William J Coaker Jr.  Chief Investment Officer  257340.00   \n",
       "3  110535        Gregory P Suhr           Chief of Police  307450.04   \n",
       "4  110536  Joanne M Hayes-White    Chief, Fire Department  302068.00   \n",
       "\n",
       "   OvertimePay   OtherPay  Benefits   TotalPay  TotalPayBenefits  Year  \\\n",
       "0         0.00  342802.63  38780.04  471952.64         510732.68  2014   \n",
       "1     10712.95   60563.54  89540.23  390111.98         479652.21  2014   \n",
       "2         0.00   82313.70  96570.66  339653.70         436224.36  2014   \n",
       "3         0.00   19266.72  91302.46  326716.76         418019.22  2014   \n",
       "4         0.00   24165.44  91201.66  326233.44         417435.10  2014   \n",
       "\n",
       "          Agency Status  Hourly_Wage Police employee_group  \n",
       "0  San Francisco     PT   255.366340      n          Other  \n",
       "1  San Francisco     FT   239.826105      n        Medical  \n",
       "2  San Francisco     PT   218.112180      n          Other  \n",
       "3  San Francisco     FT   209.009610      y      Policemen  \n",
       "4  San Francisco     FT   208.717550      n        Firemen  "
      ]
     },
     "execution_count": 125,
     "metadata": {},
     "output_type": "execute_result"
    }
   ],
   "source": [
    "# Your code here: (Apply the function)\n",
    "salary_1 = group_JobTitle(salary)\n",
    "salary_1.head()"
   ]
  },
  {
   "cell_type": "code",
   "execution_count": 39,
   "metadata": {
    "colab": {
     "base_uri": "https://localhost:8080/",
     "height": 374
    },
    "id": "79H-XuKfzSyM",
    "outputId": "fa61544e-b697-478c-8227-88ce7cb6b965",
    "scrolled": true
   },
   "outputs": [
    {
     "data": {
      "text/html": [
       "\n",
       "  <div id=\"df-af28de19-ac2d-4f6d-943f-8d18daba16e2\">\n",
       "    <div class=\"colab-df-container\">\n",
       "      <div>\n",
       "<style scoped>\n",
       "    .dataframe tbody tr th:only-of-type {\n",
       "        vertical-align: middle;\n",
       "    }\n",
       "\n",
       "    .dataframe tbody tr th {\n",
       "        vertical-align: top;\n",
       "    }\n",
       "\n",
       "    .dataframe thead th {\n",
       "        text-align: right;\n",
       "    }\n",
       "</style>\n",
       "<table border=\"1\" class=\"dataframe\">\n",
       "  <thead>\n",
       "    <tr style=\"text-align: right;\">\n",
       "      <th></th>\n",
       "      <th>Id</th>\n",
       "      <th>EmployeeName</th>\n",
       "      <th>JobTitle</th>\n",
       "      <th>BasePay</th>\n",
       "      <th>OvertimePay</th>\n",
       "      <th>OtherPay</th>\n",
       "      <th>Benefits</th>\n",
       "      <th>TotalPay</th>\n",
       "      <th>TotalPayBenefits</th>\n",
       "      <th>Year</th>\n",
       "      <th>Agency</th>\n",
       "      <th>Status</th>\n",
       "      <th>Hourly_Wage</th>\n",
       "      <th>employee_group</th>\n",
       "    </tr>\n",
       "  </thead>\n",
       "  <tbody>\n",
       "    <tr>\n",
       "      <th>0</th>\n",
       "      <td>110532</td>\n",
       "      <td>David Shinn</td>\n",
       "      <td>Deputy Chief 3</td>\n",
       "      <td>129150.01</td>\n",
       "      <td>0.00</td>\n",
       "      <td>342802.63</td>\n",
       "      <td>38780.04</td>\n",
       "      <td>471952.64</td>\n",
       "      <td>510732.68</td>\n",
       "      <td>2014</td>\n",
       "      <td>San Francisco</td>\n",
       "      <td>PT</td>\n",
       "      <td>255.366340</td>\n",
       "      <td>Other</td>\n",
       "    </tr>\n",
       "    <tr>\n",
       "      <th>1</th>\n",
       "      <td>110533</td>\n",
       "      <td>Amy P Hart</td>\n",
       "      <td>Asst Med Examiner</td>\n",
       "      <td>318835.49</td>\n",
       "      <td>10712.95</td>\n",
       "      <td>60563.54</td>\n",
       "      <td>89540.23</td>\n",
       "      <td>390111.98</td>\n",
       "      <td>479652.21</td>\n",
       "      <td>2014</td>\n",
       "      <td>San Francisco</td>\n",
       "      <td>FT</td>\n",
       "      <td>239.826105</td>\n",
       "      <td>Medical</td>\n",
       "    </tr>\n",
       "    <tr>\n",
       "      <th>2</th>\n",
       "      <td>110534</td>\n",
       "      <td>William J Coaker Jr.</td>\n",
       "      <td>Chief Investment Officer</td>\n",
       "      <td>257340.00</td>\n",
       "      <td>0.00</td>\n",
       "      <td>82313.70</td>\n",
       "      <td>96570.66</td>\n",
       "      <td>339653.70</td>\n",
       "      <td>436224.36</td>\n",
       "      <td>2014</td>\n",
       "      <td>San Francisco</td>\n",
       "      <td>PT</td>\n",
       "      <td>218.112180</td>\n",
       "      <td>Other</td>\n",
       "    </tr>\n",
       "    <tr>\n",
       "      <th>3</th>\n",
       "      <td>110535</td>\n",
       "      <td>Gregory P Suhr</td>\n",
       "      <td>Chief of Police</td>\n",
       "      <td>307450.04</td>\n",
       "      <td>0.00</td>\n",
       "      <td>19266.72</td>\n",
       "      <td>91302.46</td>\n",
       "      <td>326716.76</td>\n",
       "      <td>418019.22</td>\n",
       "      <td>2014</td>\n",
       "      <td>San Francisco</td>\n",
       "      <td>FT</td>\n",
       "      <td>209.009610</td>\n",
       "      <td>Policemen</td>\n",
       "    </tr>\n",
       "    <tr>\n",
       "      <th>4</th>\n",
       "      <td>110536</td>\n",
       "      <td>Joanne M Hayes-White</td>\n",
       "      <td>Chief, Fire Department</td>\n",
       "      <td>302068.00</td>\n",
       "      <td>0.00</td>\n",
       "      <td>24165.44</td>\n",
       "      <td>91201.66</td>\n",
       "      <td>326233.44</td>\n",
       "      <td>417435.10</td>\n",
       "      <td>2014</td>\n",
       "      <td>San Francisco</td>\n",
       "      <td>FT</td>\n",
       "      <td>208.717550</td>\n",
       "      <td>Firemen</td>\n",
       "    </tr>\n",
       "  </tbody>\n",
       "</table>\n",
       "</div>\n",
       "      <button class=\"colab-df-convert\" onclick=\"convertToInteractive('df-af28de19-ac2d-4f6d-943f-8d18daba16e2')\"\n",
       "              title=\"Convert this dataframe to an interactive table.\"\n",
       "              style=\"display:none;\">\n",
       "        \n",
       "  <svg xmlns=\"http://www.w3.org/2000/svg\" height=\"24px\"viewBox=\"0 0 24 24\"\n",
       "       width=\"24px\">\n",
       "    <path d=\"M0 0h24v24H0V0z\" fill=\"none\"/>\n",
       "    <path d=\"M18.56 5.44l.94 2.06.94-2.06 2.06-.94-2.06-.94-.94-2.06-.94 2.06-2.06.94zm-11 1L8.5 8.5l.94-2.06 2.06-.94-2.06-.94L8.5 2.5l-.94 2.06-2.06.94zm10 10l.94 2.06.94-2.06 2.06-.94-2.06-.94-.94-2.06-.94 2.06-2.06.94z\"/><path d=\"M17.41 7.96l-1.37-1.37c-.4-.4-.92-.59-1.43-.59-.52 0-1.04.2-1.43.59L10.3 9.45l-7.72 7.72c-.78.78-.78 2.05 0 2.83L4 21.41c.39.39.9.59 1.41.59.51 0 1.02-.2 1.41-.59l7.78-7.78 2.81-2.81c.8-.78.8-2.07 0-2.86zM5.41 20L4 18.59l7.72-7.72 1.47 1.35L5.41 20z\"/>\n",
       "  </svg>\n",
       "      </button>\n",
       "      \n",
       "  <style>\n",
       "    .colab-df-container {\n",
       "      display:flex;\n",
       "      flex-wrap:wrap;\n",
       "      gap: 12px;\n",
       "    }\n",
       "\n",
       "    .colab-df-convert {\n",
       "      background-color: #E8F0FE;\n",
       "      border: none;\n",
       "      border-radius: 50%;\n",
       "      cursor: pointer;\n",
       "      display: none;\n",
       "      fill: #1967D2;\n",
       "      height: 32px;\n",
       "      padding: 0 0 0 0;\n",
       "      width: 32px;\n",
       "    }\n",
       "\n",
       "    .colab-df-convert:hover {\n",
       "      background-color: #E2EBFA;\n",
       "      box-shadow: 0px 1px 2px rgba(60, 64, 67, 0.3), 0px 1px 3px 1px rgba(60, 64, 67, 0.15);\n",
       "      fill: #174EA6;\n",
       "    }\n",
       "\n",
       "    [theme=dark] .colab-df-convert {\n",
       "      background-color: #3B4455;\n",
       "      fill: #D2E3FC;\n",
       "    }\n",
       "\n",
       "    [theme=dark] .colab-df-convert:hover {\n",
       "      background-color: #434B5C;\n",
       "      box-shadow: 0px 1px 3px 1px rgba(0, 0, 0, 0.15);\n",
       "      filter: drop-shadow(0px 1px 2px rgba(0, 0, 0, 0.3));\n",
       "      fill: #FFFFFF;\n",
       "    }\n",
       "  </style>\n",
       "\n",
       "      <script>\n",
       "        const buttonEl =\n",
       "          document.querySelector('#df-af28de19-ac2d-4f6d-943f-8d18daba16e2 button.colab-df-convert');\n",
       "        buttonEl.style.display =\n",
       "          google.colab.kernel.accessAllowed ? 'block' : 'none';\n",
       "\n",
       "        async function convertToInteractive(key) {\n",
       "          const element = document.querySelector('#df-af28de19-ac2d-4f6d-943f-8d18daba16e2');\n",
       "          const dataTable =\n",
       "            await google.colab.kernel.invokeFunction('convertToInteractive',\n",
       "                                                     [key], {});\n",
       "          if (!dataTable) return;\n",
       "\n",
       "          const docLinkHtml = 'Like what you see? Visit the ' +\n",
       "            '<a target=\"_blank\" href=https://colab.research.google.com/notebooks/data_table.ipynb>data table notebook</a>'\n",
       "            + ' to learn more about interactive tables.';\n",
       "          element.innerHTML = '';\n",
       "          dataTable['output_type'] = 'display_data';\n",
       "          await google.colab.output.renderOutput(dataTable, element);\n",
       "          const docLink = document.createElement('div');\n",
       "          docLink.innerHTML = docLinkHtml;\n",
       "          element.appendChild(docLink);\n",
       "        }\n",
       "      </script>\n",
       "    </div>\n",
       "  </div>\n",
       "  "
      ],
      "text/plain": [
       "       Id          EmployeeName                  JobTitle    BasePay  \\\n",
       "0  110532           David Shinn            Deputy Chief 3  129150.01   \n",
       "1  110533            Amy P Hart         Asst Med Examiner  318835.49   \n",
       "2  110534  William J Coaker Jr.  Chief Investment Officer  257340.00   \n",
       "3  110535        Gregory P Suhr           Chief of Police  307450.04   \n",
       "4  110536  Joanne M Hayes-White    Chief, Fire Department  302068.00   \n",
       "\n",
       "   OvertimePay   OtherPay  Benefits   TotalPay  TotalPayBenefits  Year  \\\n",
       "0         0.00  342802.63  38780.04  471952.64         510732.68  2014   \n",
       "1     10712.95   60563.54  89540.23  390111.98         479652.21  2014   \n",
       "2         0.00   82313.70  96570.66  339653.70         436224.36  2014   \n",
       "3         0.00   19266.72  91302.46  326716.76         418019.22  2014   \n",
       "4         0.00   24165.44  91201.66  326233.44         417435.10  2014   \n",
       "\n",
       "          Agency Status  Hourly_Wage employee_group  \n",
       "0  San Francisco     PT   255.366340          Other  \n",
       "1  San Francisco     FT   239.826105        Medical  \n",
       "2  San Francisco     PT   218.112180          Other  \n",
       "3  San Francisco     FT   209.009610      Policemen  \n",
       "4  San Francisco     FT   208.717550        Firemen  "
      ]
     },
     "execution_count": 39,
     "metadata": {},
     "output_type": "execute_result"
    }
   ],
   "source": []
  },
  {
   "cell_type": "markdown",
   "metadata": {
    "id": "TPCdBgKezSyM"
   },
   "source": [
    "Determine how many \"PT\" and \"FT\" employess have all the employees groups."
   ]
  },
  {
   "cell_type": "code",
   "execution_count": 176,
   "metadata": {},
   "outputs": [],
   "source": [
    "# Your code here: (Store the output dataframe into a new variable)\n",
    "#salary_1.groupby(['employee_group', 'Status']).agg({'Id':'count'}).reset_index().pivot(index='employee_group', columns='Status', values = 'Id')\n",
    "#salary_1.pivot_table(index = ['employee_group', 'Status'], values = ['Id'], aggfunc= {'Id': 'count'}).reset_index().pivot(index = 'employee_group', columns = 'Status', values='Id')\n",
    "data = pd.crosstab(salary_1['employee_group'], salary_1['Status'])\n"
   ]
  },
  {
   "cell_type": "code",
   "execution_count": 40,
   "metadata": {
    "colab": {
     "base_uri": "https://localhost:8080/",
     "height": 237
    },
    "id": "GB8tp2rDzSyM",
    "outputId": "b5a3ca3c-2300-4d37-ac9f-ca4b1cf80ceb"
   },
   "outputs": [
    {
     "data": {
      "text/html": [
       "\n",
       "  <div id=\"df-49b274a2-8683-4265-9418-088255e83609\">\n",
       "    <div class=\"colab-df-container\">\n",
       "      <div>\n",
       "<style scoped>\n",
       "    .dataframe tbody tr th:only-of-type {\n",
       "        vertical-align: middle;\n",
       "    }\n",
       "\n",
       "    .dataframe tbody tr th {\n",
       "        vertical-align: top;\n",
       "    }\n",
       "\n",
       "    .dataframe thead th {\n",
       "        text-align: right;\n",
       "    }\n",
       "</style>\n",
       "<table border=\"1\" class=\"dataframe\">\n",
       "  <thead>\n",
       "    <tr style=\"text-align: right;\">\n",
       "      <th>Status</th>\n",
       "      <th>FT</th>\n",
       "      <th>PT</th>\n",
       "    </tr>\n",
       "    <tr>\n",
       "      <th>employee_group</th>\n",
       "      <th></th>\n",
       "      <th></th>\n",
       "    </tr>\n",
       "  </thead>\n",
       "  <tbody>\n",
       "    <tr>\n",
       "      <th>Firemen</th>\n",
       "      <td>1333</td>\n",
       "      <td>178</td>\n",
       "    </tr>\n",
       "    <tr>\n",
       "      <th>Lawyers</th>\n",
       "      <td>317</td>\n",
       "      <td>102</td>\n",
       "    </tr>\n",
       "    <tr>\n",
       "      <th>Medical</th>\n",
       "      <td>1028</td>\n",
       "      <td>2889</td>\n",
       "    </tr>\n",
       "    <tr>\n",
       "      <th>Other</th>\n",
       "      <td>18126</td>\n",
       "      <td>12245</td>\n",
       "    </tr>\n",
       "    <tr>\n",
       "      <th>Policemen</th>\n",
       "      <td>1530</td>\n",
       "      <td>371</td>\n",
       "    </tr>\n",
       "  </tbody>\n",
       "</table>\n",
       "</div>\n",
       "      <button class=\"colab-df-convert\" onclick=\"convertToInteractive('df-49b274a2-8683-4265-9418-088255e83609')\"\n",
       "              title=\"Convert this dataframe to an interactive table.\"\n",
       "              style=\"display:none;\">\n",
       "        \n",
       "  <svg xmlns=\"http://www.w3.org/2000/svg\" height=\"24px\"viewBox=\"0 0 24 24\"\n",
       "       width=\"24px\">\n",
       "    <path d=\"M0 0h24v24H0V0z\" fill=\"none\"/>\n",
       "    <path d=\"M18.56 5.44l.94 2.06.94-2.06 2.06-.94-2.06-.94-.94-2.06-.94 2.06-2.06.94zm-11 1L8.5 8.5l.94-2.06 2.06-.94-2.06-.94L8.5 2.5l-.94 2.06-2.06.94zm10 10l.94 2.06.94-2.06 2.06-.94-2.06-.94-.94-2.06-.94 2.06-2.06.94z\"/><path d=\"M17.41 7.96l-1.37-1.37c-.4-.4-.92-.59-1.43-.59-.52 0-1.04.2-1.43.59L10.3 9.45l-7.72 7.72c-.78.78-.78 2.05 0 2.83L4 21.41c.39.39.9.59 1.41.59.51 0 1.02-.2 1.41-.59l7.78-7.78 2.81-2.81c.8-.78.8-2.07 0-2.86zM5.41 20L4 18.59l7.72-7.72 1.47 1.35L5.41 20z\"/>\n",
       "  </svg>\n",
       "      </button>\n",
       "      \n",
       "  <style>\n",
       "    .colab-df-container {\n",
       "      display:flex;\n",
       "      flex-wrap:wrap;\n",
       "      gap: 12px;\n",
       "    }\n",
       "\n",
       "    .colab-df-convert {\n",
       "      background-color: #E8F0FE;\n",
       "      border: none;\n",
       "      border-radius: 50%;\n",
       "      cursor: pointer;\n",
       "      display: none;\n",
       "      fill: #1967D2;\n",
       "      height: 32px;\n",
       "      padding: 0 0 0 0;\n",
       "      width: 32px;\n",
       "    }\n",
       "\n",
       "    .colab-df-convert:hover {\n",
       "      background-color: #E2EBFA;\n",
       "      box-shadow: 0px 1px 2px rgba(60, 64, 67, 0.3), 0px 1px 3px 1px rgba(60, 64, 67, 0.15);\n",
       "      fill: #174EA6;\n",
       "    }\n",
       "\n",
       "    [theme=dark] .colab-df-convert {\n",
       "      background-color: #3B4455;\n",
       "      fill: #D2E3FC;\n",
       "    }\n",
       "\n",
       "    [theme=dark] .colab-df-convert:hover {\n",
       "      background-color: #434B5C;\n",
       "      box-shadow: 0px 1px 3px 1px rgba(0, 0, 0, 0.15);\n",
       "      filter: drop-shadow(0px 1px 2px rgba(0, 0, 0, 0.3));\n",
       "      fill: #FFFFFF;\n",
       "    }\n",
       "  </style>\n",
       "\n",
       "      <script>\n",
       "        const buttonEl =\n",
       "          document.querySelector('#df-49b274a2-8683-4265-9418-088255e83609 button.colab-df-convert');\n",
       "        buttonEl.style.display =\n",
       "          google.colab.kernel.accessAllowed ? 'block' : 'none';\n",
       "\n",
       "        async function convertToInteractive(key) {\n",
       "          const element = document.querySelector('#df-49b274a2-8683-4265-9418-088255e83609');\n",
       "          const dataTable =\n",
       "            await google.colab.kernel.invokeFunction('convertToInteractive',\n",
       "                                                     [key], {});\n",
       "          if (!dataTable) return;\n",
       "\n",
       "          const docLinkHtml = 'Like what you see? Visit the ' +\n",
       "            '<a target=\"_blank\" href=https://colab.research.google.com/notebooks/data_table.ipynb>data table notebook</a>'\n",
       "            + ' to learn more about interactive tables.';\n",
       "          element.innerHTML = '';\n",
       "          dataTable['output_type'] = 'display_data';\n",
       "          await google.colab.output.renderOutput(dataTable, element);\n",
       "          const docLink = document.createElement('div');\n",
       "          docLink.innerHTML = docLinkHtml;\n",
       "          element.appendChild(docLink);\n",
       "        }\n",
       "      </script>\n",
       "    </div>\n",
       "  </div>\n",
       "  "
      ],
      "text/plain": [
       "Status             FT     PT\n",
       "employee_group              \n",
       "Firemen          1333    178\n",
       "Lawyers           317    102\n",
       "Medical          1028   2889\n",
       "Other           18126  12245\n",
       "Policemen        1530    371"
      ]
     },
     "execution_count": 40,
     "metadata": {},
     "output_type": "execute_result"
    }
   ],
   "source": []
  },
  {
   "cell_type": "markdown",
   "metadata": {
    "id": "CJb-kx-7zSyM"
   },
   "source": [
    "Now try compute the expected frequencies doing the calculations with the individual probabilities. Remember that the Chi2 test assumes that both variables (employee_group and FT/PT) are not related (therefore they are independent). Therefore, to compute the expected frequencies you need to compute the probability of each cell and multiply it by the number of observations. ie:\n",
    "\n",
    "$$\\nu(x,y) = p(x,y) * N = p(x) * p(y) * N$$\n",
    "\n",
    "bear in mind that in general: $p(x,y)\\neq p(x)*p(y)$; the equality will only be true if x and y are independent. However, the null hypotheses says that **x and y are independent.** but that's what we're assuming with the null hypotheses.\n",
    "\n",
    "where \"x\" is the \"employee_group\" and \"y\" the (FT/PT). "
   ]
  },
  {
   "cell_type": "code",
   "execution_count": null,
   "metadata": {},
   "outputs": [],
   "source": [
    "# Create an empty dataframe named \"frequencies\" to store the data.\n",
    "# Your code here:\n",
    "frequencies = []\n"
   ]
  },
  {
   "cell_type": "code",
   "execution_count": 41,
   "metadata": {
    "id": "Y-fJvVuqzSyN"
   },
   "outputs": [],
   "source": []
  },
  {
   "cell_type": "code",
   "execution_count": 187,
   "metadata": {},
   "outputs": [
    {
     "data": {
      "text/plain": [
       "885.2979878800596"
      ]
     },
     "execution_count": 187,
     "metadata": {},
     "output_type": "execute_result"
    }
   ],
   "source": [
    "# Your code here: Compute Expected frequency of being \"Firemen\" and \"FT\". Store the solution in a variable named \"firemen_ft\"\n",
    "firemen_ft = ((1333+178)/data.sum().sum())*(data['FT'].sum()/data.sum().sum())*data.sum().sum()\n",
    "firemen_ft"
   ]
  },
  {
   "cell_type": "code",
   "execution_count": 42,
   "metadata": {
    "colab": {
     "base_uri": "https://localhost:8080/"
    },
    "id": "1ld-NVuczSyN",
    "outputId": "8f4e0114-77c2-446b-f02f-bc5440b3fb9a"
   },
   "outputs": [
    {
     "data": {
      "text/plain": [
       "885.2979878800596"
      ]
     },
     "execution_count": 42,
     "metadata": {},
     "output_type": "execute_result"
    }
   ],
   "source": []
  },
  {
   "cell_type": "code",
   "execution_count": 200,
   "metadata": {},
   "outputs": [
    {
     "data": {
      "text/plain": [
       "625.7020121199403"
      ]
     },
     "execution_count": 200,
     "metadata": {},
     "output_type": "execute_result"
    }
   ],
   "source": [
    "# Your code here: Compute Expected frequency of being \"Firemen\" and \"PT\". Store the solution in a variable named \"firemen_pt\"\n",
    "firemen_pt = ((1333+178)/data.sum().sum())*(data['PT'].sum()/data.sum().sum())*data.sum().sum()\n",
    "firemen_pt"
   ]
  },
  {
   "cell_type": "code",
   "execution_count": 43,
   "metadata": {
    "colab": {
     "base_uri": "https://localhost:8080/"
    },
    "id": "RUp3VAXIzSyN",
    "outputId": "f20f5b9b-62fe-48b9-9638-a609464a0a06"
   },
   "outputs": [
    {
     "data": {
      "text/plain": [
       "625.7020121199403"
      ]
     },
     "execution_count": 43,
     "metadata": {},
     "output_type": "execute_result"
    }
   ],
   "source": []
  },
  {
   "cell_type": "code",
   "execution_count": 199,
   "metadata": {},
   "outputs": [
    {
     "data": {
      "text/plain": [
       "245.49295626852748"
      ]
     },
     "execution_count": 199,
     "metadata": {},
     "output_type": "execute_result"
    }
   ],
   "source": [
    "# Your code here: Compute Expected frequency of being \"Lawyers\" and \"FT\". Store the solution in a variable named \"lawyers_ft\"\n",
    "lawyer_ft = ((data.loc['Lawyer'].sum())/data.sum().sum())*(data['FT'].sum()/data.sum().sum())*data.sum().sum()\n",
    "lawyer_ft"
   ]
  },
  {
   "cell_type": "code",
   "execution_count": 44,
   "metadata": {
    "colab": {
     "base_uri": "https://localhost:8080/"
    },
    "id": "5zTnWHxdzSyN",
    "outputId": "fa3db9aa-9fbb-482e-f35a-13fa9e605405"
   },
   "outputs": [
    {
     "data": {
      "text/plain": [
       "245.49295626852748"
      ]
     },
     "execution_count": 44,
     "metadata": {},
     "output_type": "execute_result"
    }
   ],
   "source": []
  },
  {
   "cell_type": "code",
   "execution_count": 201,
   "metadata": {},
   "outputs": [
    {
     "data": {
      "text/plain": [
       "173.5070437314725"
      ]
     },
     "execution_count": 201,
     "metadata": {},
     "output_type": "execute_result"
    }
   ],
   "source": [
    "# Your code here: Compute Expected frequency of being \"Lawyers\" and \"PT\". Store the solution in a variable named \"lawyers_pt\"\n",
    "lawyer_pt = ((data.loc['Lawyer'].sum())/data.sum().sum())*(data['PT'].sum()/data.sum().sum())*data.sum().sum()\n",
    "lawyer_pt"
   ]
  },
  {
   "cell_type": "code",
   "execution_count": 45,
   "metadata": {
    "colab": {
     "base_uri": "https://localhost:8080/"
    },
    "id": "f_E2hWy7zSyN",
    "outputId": "0589a145-35fb-4441-c5e8-32bce904e01a"
   },
   "outputs": [
    {
     "data": {
      "text/plain": [
       "173.5070437314725"
      ]
     },
     "execution_count": 45,
     "metadata": {},
     "output_type": "execute_result"
    }
   ],
   "source": []
  },
  {
   "cell_type": "code",
   "execution_count": 203,
   "metadata": {},
   "outputs": [
    {
     "data": {
      "text/plain": [
       "2294.9783047823917"
      ]
     },
     "execution_count": 203,
     "metadata": {},
     "output_type": "execute_result"
    }
   ],
   "source": [
    "# Your code here: Compute Expected frequency of being \"Medical\" and \"FT\". Store the solution in a variable named \"medical_ft\"\n",
    "medical_ft = ((data.loc['Medical'].sum())/data.sum().sum())*(data['FT'].sum()/data.sum().sum())*data.sum().sum()\n",
    "medical_ft"
   ]
  },
  {
   "cell_type": "code",
   "execution_count": 46,
   "metadata": {
    "colab": {
     "base_uri": "https://localhost:8080/"
    },
    "id": "TJSVxXMlzSyN",
    "outputId": "4731e0ca-028d-4582-fc75-772b2e3644b2"
   },
   "outputs": [
    {
     "data": {
      "text/plain": [
       "2294.9783047823917"
      ]
     },
     "execution_count": 46,
     "metadata": {},
     "output_type": "execute_result"
    }
   ],
   "source": []
  },
  {
   "cell_type": "code",
   "execution_count": 204,
   "metadata": {},
   "outputs": [
    {
     "data": {
      "text/plain": [
       "1622.021695217608"
      ]
     },
     "execution_count": 204,
     "metadata": {},
     "output_type": "execute_result"
    }
   ],
   "source": [
    "# Your code here: Compute Expected frequency of being \"Medical\" and \"PT\". Store the solution in a variable named \"medical_pt\"\n",
    "medical_pt = ((data.loc['Medical'].sum())/data.sum().sum())*(data['PT'].sum()/data.sum().sum())*data.sum().sum()\n",
    "medical_pt"
   ]
  },
  {
   "cell_type": "code",
   "execution_count": 47,
   "metadata": {
    "colab": {
     "base_uri": "https://localhost:8080/"
    },
    "id": "6JDp8KxyzSyO",
    "outputId": "7cf6a30a-5a80-4c47-f38b-c51e98025b48"
   },
   "outputs": [
    {
     "data": {
      "text/plain": [
       "1622.021695217608"
      ]
     },
     "execution_count": 47,
     "metadata": {},
     "output_type": "execute_result"
    }
   ],
   "source": []
  },
  {
   "cell_type": "code",
   "execution_count": 205,
   "metadata": {},
   "outputs": [
    {
     "data": {
      "text/plain": [
       "17794.430966184842"
      ]
     },
     "execution_count": 205,
     "metadata": {},
     "output_type": "execute_result"
    }
   ],
   "source": [
    "# Your code here: Compute Expected frequency of being \"Other\" and \"FT\". Store the solution in a variable named \"other_ft\"\n",
    "other_ft = ((data.loc['Other'].sum())/data.sum().sum())*(data['FT'].sum()/data.sum().sum())*data.sum().sum()\n",
    "other_ft"
   ]
  },
  {
   "cell_type": "code",
   "execution_count": 48,
   "metadata": {
    "colab": {
     "base_uri": "https://localhost:8080/"
    },
    "id": "Faj2vgrazSyO",
    "outputId": "bcc9b61f-abf7-44b4-9cc4-57c34f4559b3"
   },
   "outputs": [
    {
     "data": {
      "text/plain": [
       "17794.430966184842"
      ]
     },
     "execution_count": 48,
     "metadata": {},
     "output_type": "execute_result"
    }
   ],
   "source": []
  },
  {
   "cell_type": "code",
   "execution_count": 206,
   "metadata": {},
   "outputs": [
    {
     "data": {
      "text/plain": [
       "12576.569033815158"
      ]
     },
     "execution_count": 206,
     "metadata": {},
     "output_type": "execute_result"
    }
   ],
   "source": [
    "# Your code here: Compute Expected frequency of being \"Other\" and \"PT\". Store the solution in a variable named \"other_pt\"\n",
    "other_pt = ((data.loc['Other'].sum())/data.sum().sum())*(data['PT'].sum()/data.sum().sum())*data.sum().sum()\n",
    "other_pt"
   ]
  },
  {
   "cell_type": "code",
   "execution_count": 49,
   "metadata": {
    "colab": {
     "base_uri": "https://localhost:8080/"
    },
    "id": "kmAMpPFyzSyO",
    "outputId": "0de568d8-d0db-471f-bc60-2ddc65cb5e54"
   },
   "outputs": [
    {
     "data": {
      "text/plain": [
       "12576.569033815158"
      ]
     },
     "execution_count": 49,
     "metadata": {},
     "output_type": "execute_result"
    }
   ],
   "source": []
  },
  {
   "cell_type": "code",
   "execution_count": 207,
   "metadata": {},
   "outputs": [
    {
     "data": {
      "text/plain": [
       "1113.7997848841785"
      ]
     },
     "execution_count": 207,
     "metadata": {},
     "output_type": "execute_result"
    }
   ],
   "source": [
    "# Your code here: Compute Expected frequency of being \"Policement\" and \"FT\". Store the solution in a variable named \"policemen_ft\"\n",
    "policemen_ft = ((data.loc['Policemen'].sum())/data.sum().sum())*(data['FT'].sum()/data.sum().sum())*data.sum().sum()\n",
    "policemen_ft"
   ]
  },
  {
   "cell_type": "code",
   "execution_count": 50,
   "metadata": {
    "colab": {
     "base_uri": "https://localhost:8080/"
    },
    "id": "yUyhx_IezSyO",
    "outputId": "9f9bfaae-d402-4e04-8863-e3ff2bf63ac9"
   },
   "outputs": [
    {
     "data": {
      "text/plain": [
       "1113.7997848841785"
      ]
     },
     "execution_count": 50,
     "metadata": {},
     "output_type": "execute_result"
    }
   ],
   "source": []
  },
  {
   "cell_type": "code",
   "execution_count": 208,
   "metadata": {},
   "outputs": [
    {
     "data": {
      "text/plain": [
       "787.2002151158215"
      ]
     },
     "execution_count": 208,
     "metadata": {},
     "output_type": "execute_result"
    }
   ],
   "source": [
    "# Your code here: Compute Expected frequency of being \"Policement\" and \"PT\". Store the solution in a variable named \"policemen_pt\"\n",
    "policemen_pt = ((data.loc['Policemen'].sum())/data.sum().sum())*(data['PT'].sum()/data.sum().sum())*data.sum().sum()\n",
    "policemen_pt"
   ]
  },
  {
   "cell_type": "code",
   "execution_count": 51,
   "metadata": {
    "colab": {
     "base_uri": "https://localhost:8080/"
    },
    "id": "xU9CcKJSzSyO",
    "outputId": "c19fc385-8048-4f47-9397-46d416f1ffdf"
   },
   "outputs": [
    {
     "data": {
      "text/plain": [
       "787.2002151158215"
      ]
     },
     "execution_count": 51,
     "metadata": {},
     "output_type": "execute_result"
    }
   ],
   "source": []
  },
  {
   "cell_type": "markdown",
   "metadata": {
    "id": "XRuFEP-WzSyO"
   },
   "source": [
    "* Store all the expected frequencies of \"FT\" employees in a list \n",
    "* Store all the \"PT\" employees into another list\n",
    "* Create a dictionary with \"FT\" and \"PT\" as keys and as the values use the previous lists\n",
    "* Create a dataframe with this dictionary using pd.DataFrame()"
   ]
  },
  {
   "cell_type": "code",
   "execution_count": 209,
   "metadata": {},
   "outputs": [
    {
     "data": {
      "text/html": [
       "<div>\n",
       "<style scoped>\n",
       "    .dataframe tbody tr th:only-of-type {\n",
       "        vertical-align: middle;\n",
       "    }\n",
       "\n",
       "    .dataframe tbody tr th {\n",
       "        vertical-align: top;\n",
       "    }\n",
       "\n",
       "    .dataframe thead th {\n",
       "        text-align: right;\n",
       "    }\n",
       "</style>\n",
       "<table border=\"1\" class=\"dataframe\">\n",
       "  <thead>\n",
       "    <tr style=\"text-align: right;\">\n",
       "      <th></th>\n",
       "      <th>FT</th>\n",
       "      <th>PT</th>\n",
       "    </tr>\n",
       "  </thead>\n",
       "  <tbody>\n",
       "    <tr>\n",
       "      <th>0</th>\n",
       "      <td>885.297988</td>\n",
       "      <td>625.702012</td>\n",
       "    </tr>\n",
       "    <tr>\n",
       "      <th>1</th>\n",
       "      <td>1113.799785</td>\n",
       "      <td>787.200215</td>\n",
       "    </tr>\n",
       "    <tr>\n",
       "      <th>2</th>\n",
       "      <td>2294.978305</td>\n",
       "      <td>1622.021695</td>\n",
       "    </tr>\n",
       "    <tr>\n",
       "      <th>3</th>\n",
       "      <td>245.492956</td>\n",
       "      <td>173.507044</td>\n",
       "    </tr>\n",
       "    <tr>\n",
       "      <th>4</th>\n",
       "      <td>17794.430966</td>\n",
       "      <td>12576.569034</td>\n",
       "    </tr>\n",
       "  </tbody>\n",
       "</table>\n",
       "</div>"
      ],
      "text/plain": [
       "             FT            PT\n",
       "0    885.297988    625.702012\n",
       "1   1113.799785    787.200215\n",
       "2   2294.978305   1622.021695\n",
       "3    245.492956    173.507044\n",
       "4  17794.430966  12576.569034"
      ]
     },
     "execution_count": 209,
     "metadata": {},
     "output_type": "execute_result"
    }
   ],
   "source": [
    "# Your code here:\n",
    "freq = {'FT': [firemen_ft, policemen_ft, medical_ft, lawyer_ft, other_ft], 'PT': [firemen_pt, policemen_pt, medical_pt, lawyer_pt, other_pt] }\n",
    "frequencies = pd.DataFrame(freq)\n",
    "frequencies"
   ]
  },
  {
   "cell_type": "code",
   "execution_count": 52,
   "metadata": {
    "colab": {
     "base_uri": "https://localhost:8080/",
     "height": 206
    },
    "id": "g6Otm4XUzSyO",
    "outputId": "7bbf7a53-e947-4137-8f03-35fb3b9cc3ee"
   },
   "outputs": [
    {
     "data": {
      "text/html": [
       "\n",
       "  <div id=\"df-e0370bfd-0663-471d-986a-458cd677dcf5\">\n",
       "    <div class=\"colab-df-container\">\n",
       "      <div>\n",
       "<style scoped>\n",
       "    .dataframe tbody tr th:only-of-type {\n",
       "        vertical-align: middle;\n",
       "    }\n",
       "\n",
       "    .dataframe tbody tr th {\n",
       "        vertical-align: top;\n",
       "    }\n",
       "\n",
       "    .dataframe thead th {\n",
       "        text-align: right;\n",
       "    }\n",
       "</style>\n",
       "<table border=\"1\" class=\"dataframe\">\n",
       "  <thead>\n",
       "    <tr style=\"text-align: right;\">\n",
       "      <th></th>\n",
       "      <th>FT</th>\n",
       "      <th>PT</th>\n",
       "    </tr>\n",
       "  </thead>\n",
       "  <tbody>\n",
       "    <tr>\n",
       "      <th>0</th>\n",
       "      <td>885.297988</td>\n",
       "      <td>625.702012</td>\n",
       "    </tr>\n",
       "    <tr>\n",
       "      <th>1</th>\n",
       "      <td>245.492956</td>\n",
       "      <td>173.507044</td>\n",
       "    </tr>\n",
       "    <tr>\n",
       "      <th>2</th>\n",
       "      <td>2294.978305</td>\n",
       "      <td>1622.021695</td>\n",
       "    </tr>\n",
       "    <tr>\n",
       "      <th>3</th>\n",
       "      <td>17794.430966</td>\n",
       "      <td>12576.569034</td>\n",
       "    </tr>\n",
       "    <tr>\n",
       "      <th>4</th>\n",
       "      <td>1113.799785</td>\n",
       "      <td>787.200215</td>\n",
       "    </tr>\n",
       "  </tbody>\n",
       "</table>\n",
       "</div>\n",
       "      <button class=\"colab-df-convert\" onclick=\"convertToInteractive('df-e0370bfd-0663-471d-986a-458cd677dcf5')\"\n",
       "              title=\"Convert this dataframe to an interactive table.\"\n",
       "              style=\"display:none;\">\n",
       "        \n",
       "  <svg xmlns=\"http://www.w3.org/2000/svg\" height=\"24px\"viewBox=\"0 0 24 24\"\n",
       "       width=\"24px\">\n",
       "    <path d=\"M0 0h24v24H0V0z\" fill=\"none\"/>\n",
       "    <path d=\"M18.56 5.44l.94 2.06.94-2.06 2.06-.94-2.06-.94-.94-2.06-.94 2.06-2.06.94zm-11 1L8.5 8.5l.94-2.06 2.06-.94-2.06-.94L8.5 2.5l-.94 2.06-2.06.94zm10 10l.94 2.06.94-2.06 2.06-.94-2.06-.94-.94-2.06-.94 2.06-2.06.94z\"/><path d=\"M17.41 7.96l-1.37-1.37c-.4-.4-.92-.59-1.43-.59-.52 0-1.04.2-1.43.59L10.3 9.45l-7.72 7.72c-.78.78-.78 2.05 0 2.83L4 21.41c.39.39.9.59 1.41.59.51 0 1.02-.2 1.41-.59l7.78-7.78 2.81-2.81c.8-.78.8-2.07 0-2.86zM5.41 20L4 18.59l7.72-7.72 1.47 1.35L5.41 20z\"/>\n",
       "  </svg>\n",
       "      </button>\n",
       "      \n",
       "  <style>\n",
       "    .colab-df-container {\n",
       "      display:flex;\n",
       "      flex-wrap:wrap;\n",
       "      gap: 12px;\n",
       "    }\n",
       "\n",
       "    .colab-df-convert {\n",
       "      background-color: #E8F0FE;\n",
       "      border: none;\n",
       "      border-radius: 50%;\n",
       "      cursor: pointer;\n",
       "      display: none;\n",
       "      fill: #1967D2;\n",
       "      height: 32px;\n",
       "      padding: 0 0 0 0;\n",
       "      width: 32px;\n",
       "    }\n",
       "\n",
       "    .colab-df-convert:hover {\n",
       "      background-color: #E2EBFA;\n",
       "      box-shadow: 0px 1px 2px rgba(60, 64, 67, 0.3), 0px 1px 3px 1px rgba(60, 64, 67, 0.15);\n",
       "      fill: #174EA6;\n",
       "    }\n",
       "\n",
       "    [theme=dark] .colab-df-convert {\n",
       "      background-color: #3B4455;\n",
       "      fill: #D2E3FC;\n",
       "    }\n",
       "\n",
       "    [theme=dark] .colab-df-convert:hover {\n",
       "      background-color: #434B5C;\n",
       "      box-shadow: 0px 1px 3px 1px rgba(0, 0, 0, 0.15);\n",
       "      filter: drop-shadow(0px 1px 2px rgba(0, 0, 0, 0.3));\n",
       "      fill: #FFFFFF;\n",
       "    }\n",
       "  </style>\n",
       "\n",
       "      <script>\n",
       "        const buttonEl =\n",
       "          document.querySelector('#df-e0370bfd-0663-471d-986a-458cd677dcf5 button.colab-df-convert');\n",
       "        buttonEl.style.display =\n",
       "          google.colab.kernel.accessAllowed ? 'block' : 'none';\n",
       "\n",
       "        async function convertToInteractive(key) {\n",
       "          const element = document.querySelector('#df-e0370bfd-0663-471d-986a-458cd677dcf5');\n",
       "          const dataTable =\n",
       "            await google.colab.kernel.invokeFunction('convertToInteractive',\n",
       "                                                     [key], {});\n",
       "          if (!dataTable) return;\n",
       "\n",
       "          const docLinkHtml = 'Like what you see? Visit the ' +\n",
       "            '<a target=\"_blank\" href=https://colab.research.google.com/notebooks/data_table.ipynb>data table notebook</a>'\n",
       "            + ' to learn more about interactive tables.';\n",
       "          element.innerHTML = '';\n",
       "          dataTable['output_type'] = 'display_data';\n",
       "          await google.colab.output.renderOutput(dataTable, element);\n",
       "          const docLink = document.createElement('div');\n",
       "          docLink.innerHTML = docLinkHtml;\n",
       "          element.appendChild(docLink);\n",
       "        }\n",
       "      </script>\n",
       "    </div>\n",
       "  </div>\n",
       "  "
      ],
      "text/plain": [
       "             FT            PT\n",
       "0    885.297988    625.702012\n",
       "1    245.492956    173.507044\n",
       "2   2294.978305   1622.021695\n",
       "3  17794.430966  12576.569034\n",
       "4   1113.799785    787.200215"
      ]
     },
     "execution_count": 52,
     "metadata": {},
     "output_type": "execute_result"
    }
   ],
   "source": []
  },
  {
   "cell_type": "markdown",
   "metadata": {
    "id": "serVGf6HzSyP"
   },
   "source": [
    "Now use the \"st.chi2_contingency()\" from scipy.stats [documentation here](https://docs.scipy.org/doc/scipy/reference/generated/scipy.stats.chi2_contingency.html) to conduct a Chi2 test to determine if the diferences between employee groups are statistically significant using a 95% confidence level. Hint: fill the function with a dataframe of actual frequencies."
   ]
  },
  {
   "cell_type": "code",
   "execution_count": 210,
   "metadata": {},
   "outputs": [
    {
     "data": {
      "text/plain": [
       "Chi2ContingencyResult(statistic=2676.642333711905, pvalue=0.0, dof=4, expected_freq=array([[  885.29798788,   625.70201212],\n",
       "       [  245.49295627,   173.50704373],\n",
       "       [ 2294.97830478,  1622.02169522],\n",
       "       [17794.43096618, 12576.56903382],\n",
       "       [ 1113.79978488,   787.20021512]]))"
      ]
     },
     "execution_count": 210,
     "metadata": {},
     "output_type": "execute_result"
    }
   ],
   "source": [
    "# Your code here: (use the st.chi2_contingency() function from scipy.stats to compute:\n",
    "# The Chi2 value\n",
    "# The p-valueYea we \n",
    "# The expected frequencies.\n",
    "# Ho: there is no relationship\n",
    "# Ha: there is relationship differences\n",
    "# p_value = P(table | Ho) = P(table | no relationship) = 1.51e-6 < 0.05\n",
    "st.chi2_contingency(data)"
   ]
  },
  {
   "cell_type": "code",
   "execution_count": 53,
   "metadata": {
    "colab": {
     "base_uri": "https://localhost:8080/"
    },
    "id": "xJ4eZt7UzSyP",
    "outputId": "8c3e8264-fa84-4046-b582-09283ac78611"
   },
   "outputs": [
    {
     "data": {
      "text/plain": [
       "(2676.642333711905, 0.0, 4, array([[  885.29798788,   625.70201212],\n",
       "        [  245.49295627,   173.50704373],\n",
       "        [ 2294.97830478,  1622.02169522],\n",
       "        [17794.43096618, 12576.56903382],\n",
       "        [ 1113.79978488,   787.20021512]]))"
      ]
     },
     "execution_count": 53,
     "metadata": {},
     "output_type": "execute_result"
    }
   ],
   "source": []
  },
  {
   "cell_type": "markdown",
   "metadata": {
    "id": "HAlxWZjOzSyP"
   },
   "source": [
    "Check if your expected frequencies aggree with the ones obtained with the st.chi2_contingency() function"
   ]
  },
  {
   "cell_type": "code",
   "execution_count": 216,
   "metadata": {
    "id": "AbQbrku9zSyP"
   },
   "outputs": [
    {
     "data": {
      "text/plain": [
       "9.487729036781154"
      ]
     },
     "execution_count": 216,
     "metadata": {},
     "output_type": "execute_result"
    }
   ],
   "source": [
    "# the expected frequencies do not agree with the ones obtained by the st.chi2_contingency()\n",
    "# pvalue = 0.0 < a = 0.05 : reject H0 hypothesis which is the assumption that the observed frequencies in the contingency table are independence.\n",
    "chi2_critical = st.chi2.ppf(0.95, 4)\n",
    "chi2_critical\n",
    "\n",
    "# chi2_critical = 9.49 < < chi2 = 2676.64: reject H0 --> there is a relationship between employee_group and status (FT/PT) "
   ]
  }
 ],
 "metadata": {
  "colab": {
   "name": "main_solutions.ipynb",
   "provenance": [],
   "toc_visible": true
  },
  "kernelspec": {
   "display_name": "Python 3 (ipykernel)",
   "language": "python",
   "name": "python3"
  },
  "language_info": {
   "codemirror_mode": {
    "name": "ipython",
    "version": 3
   },
   "file_extension": ".py",
   "mimetype": "text/x-python",
   "name": "python",
   "nbconvert_exporter": "python",
   "pygments_lexer": "ipython3",
   "version": "3.11.5"
  }
 },
 "nbformat": 4,
 "nbformat_minor": 1
}
